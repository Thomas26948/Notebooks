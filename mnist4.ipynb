{
  "nbformat": 4,
  "nbformat_minor": 0,
  "metadata": {
    "colab": {
      "name": "mnist4.ipynb",
      "provenance": [],
      "collapsed_sections": [],
      "authorship_tag": "ABX9TyN7VFIefm3L7vcfk9TCBfdF",
      "include_colab_link": true
    },
    "kernelspec": {
      "name": "python3",
      "display_name": "Python 3"
    },
    "accelerator": "GPU"
  },
  "cells": [
    {
      "cell_type": "markdown",
      "metadata": {
        "id": "view-in-github",
        "colab_type": "text"
      },
      "source": [
        "<a href=\"https://colab.research.google.com/github/Thomas26948/Notebooks/blob/main/mnist4.ipynb\" target=\"_parent\"><img src=\"https://colab.research.google.com/assets/colab-badge.svg\" alt=\"Open In Colab\"/></a>"
      ]
    },
    {
      "cell_type": "code",
      "metadata": {
        "id": "E_MCXQIMfG6E",
        "colab": {
          "base_uri": "https://localhost:8080/"
        },
        "outputId": "039e6760-e97f-49b2-a286-d2ab8424aa9e"
      },
      "source": [
        "!pip install -Uqq fastbook\r\n",
        "import fastbook\r\n",
        "fastbook.setup_book()\r\n",
        "from fastai.vision.all import *\r\n",
        "from fastbook import *\r\n",
        "\r\n",
        "matplotlib.rc('image', cmap='Greys')"
      ],
      "execution_count": 2,
      "outputs": [
        {
          "output_type": "stream",
          "text": [
            "\u001b[K     |████████████████████████████████| 727kB 8.9MB/s \n",
            "\u001b[K     |████████████████████████████████| 51kB 7.2MB/s \n",
            "\u001b[K     |████████████████████████████████| 194kB 10.1MB/s \n",
            "\u001b[K     |████████████████████████████████| 1.1MB 15.1MB/s \n",
            "\u001b[K     |████████████████████████████████| 61kB 5.5MB/s \n",
            "\u001b[?25hMounted at /content/gdrive\n"
          ],
          "name": "stdout"
        }
      ]
    },
    {
      "cell_type": "code",
      "metadata": {
        "id": "CDbt_mSzgtO_"
      },
      "source": [
        ""
      ],
      "execution_count": 2,
      "outputs": []
    },
    {
      "cell_type": "markdown",
      "metadata": {
        "id": "N10uL2tMOWRD"
      },
      "source": [
        "Using MNIST Dataset"
      ]
    },
    {
      "cell_type": "code",
      "metadata": {
        "id": "e4VUoUem23RA",
        "colab": {
          "base_uri": "https://localhost:8080/",
          "height": 17
        },
        "outputId": "53dc70aa-fcf8-4c71-a97f-2cae16a84532"
      },
      "source": [
        "path = untar_data(URLs.MNIST_SAMPLE)"
      ],
      "execution_count": 3,
      "outputs": [
        {
          "output_type": "display_data",
          "data": {
            "text/html": [
              ""
            ],
            "text/plain": [
              "<IPython.core.display.HTML object>"
            ]
          },
          "metadata": {
            "tags": []
          }
        }
      ]
    },
    {
      "cell_type": "code",
      "metadata": {
        "id": "eYJg7x5j23q-",
        "colab": {
          "base_uri": "https://localhost:8080/",
          "height": 34
        },
        "outputId": "fa090ee4-753d-4b47-95a1-3ce74608c8dc"
      },
      "source": [
        "URLs.MNIST_SAMPLE"
      ],
      "execution_count": 4,
      "outputs": [
        {
          "output_type": "execute_result",
          "data": {
            "application/vnd.google.colaboratory.intrinsic+json": {
              "type": "string"
            },
            "text/plain": [
              "'https://s3.amazonaws.com/fast-ai-sample/mnist_sample.tgz'"
            ]
          },
          "metadata": {
            "tags": []
          },
          "execution_count": 4
        }
      ]
    },
    {
      "cell_type": "code",
      "metadata": {
        "id": "IRniNtvu2347"
      },
      "source": [
        "Path.BASE_PATH = path"
      ],
      "execution_count": 5,
      "outputs": []
    },
    {
      "cell_type": "code",
      "metadata": {
        "id": "ek5NU2am24Fl",
        "colab": {
          "base_uri": "https://localhost:8080/"
        },
        "outputId": "ecf6cffc-7fff-4ba6-f260-8852d471f80c"
      },
      "source": [
        "path.ls()"
      ],
      "execution_count": 6,
      "outputs": [
        {
          "output_type": "execute_result",
          "data": {
            "text/plain": [
              "(#3) [Path('labels.csv'),Path('train'),Path('valid')]"
            ]
          },
          "metadata": {
            "tags": []
          },
          "execution_count": 6
        }
      ]
    },
    {
      "cell_type": "code",
      "metadata": {
        "colab": {
          "base_uri": "https://localhost:8080/"
        },
        "id": "mcMWE7W0QcMD",
        "outputId": "aa5c04cd-c247-4d5e-8a01-ccfa2724d555"
      },
      "source": [
        "(path/'valid').ls()"
      ],
      "execution_count": 7,
      "outputs": [
        {
          "output_type": "execute_result",
          "data": {
            "text/plain": [
              "(#2) [Path('valid/3'),Path('valid/7')]"
            ]
          },
          "metadata": {
            "tags": []
          },
          "execution_count": 7
        }
      ]
    },
    {
      "cell_type": "code",
      "metadata": {
        "id": "9g0us4H0Qxqs"
      },
      "source": [
        "threes = (path/'train'/'3').ls().sorted()"
      ],
      "execution_count": 8,
      "outputs": []
    },
    {
      "cell_type": "code",
      "metadata": {
        "id": "YKueZz9mRBQ5"
      },
      "source": [
        "sevens = (path/'train'/'7').ls().sorted()"
      ],
      "execution_count": 9,
      "outputs": []
    },
    {
      "cell_type": "markdown",
      "metadata": {
        "id": "sbBGSLGaRj2A"
      },
      "source": [
        "Python Imaging Library (PIL) => Image class"
      ]
    },
    {
      "cell_type": "code",
      "metadata": {
        "colab": {
          "base_uri": "https://localhost:8080/",
          "height": 45
        },
        "id": "fliG5oMGRJ9H",
        "outputId": "d1393b16-fde2-4a75-88dc-e8eae1e40701"
      },
      "source": [
        "im3_path = threes[150]\r\n",
        "im3 = Image.open(im3_path)\r\n",
        "im3"
      ],
      "execution_count": 10,
      "outputs": [
        {
          "output_type": "execute_result",
          "data": {
            "image/png": "[encoded data removed]",
            "text/plain": [
              "<PIL.PngImagePlugin.PngImageFile image mode=L size=28x28 at 0x7FEFE8AA41D0>"
            ]
          },
          "metadata": {
            "tags": []
          },
          "execution_count": 10
        }
      ]
    },
    {
      "cell_type": "code",
      "metadata": {
        "colab": {
          "base_uri": "https://localhost:8080/"
        },
        "id": "USAoiBXZRfMl",
        "outputId": "e8ed3f30-9aa4-4f7d-fe74-3973242ef150"
      },
      "source": [
        "array(im3)"
      ],
      "execution_count": 11,
      "outputs": [
        {
          "output_type": "execute_result",
          "data": {
            "text/plain": [
              "array([[  0,   0,   0,   0,   0,   0,   0,   0,   0,   0,   0,   0,   0,   0,   0,   0,   0,   0,   0,   0,   0,   0,   0,   0,   0,   0,   0,   0],\n",
              "       [  0,   0,   0,   0,   0,   0,   0,   0,   0,   0,   0,   0,   0,   0,   0,   0,   0,   0,   0,   0,   0,   0,   0,   0,   0,   0,   0,   0],\n",
              "       [  0,   0,   0,   0,   0,   0,   0,   0,   0,   0,   0,   0,   0,   0,   0,   0,   0,   0,   0,   0,   0,   0,   0,   0,   0,   0,   0,   0],\n",
              "       [  0,   0,   0,   0,   0,   0,   0,   0,   0,   0,   0,   0,   0,   0,   0,   0,   0,   0,   0,   0,   0,   0,   0,   0,   0,   0,   0,   0],\n",
              "       [  0,   0,   0,   0,   0,   0,   0,   0,   0,   0,   0,   0,   0,   0,   0,   0,   0,   0,   0,   0,   0,   0,   0,   0,   0,   0,   0,   0],\n",
              "       [  0,   0,   0,   0,   0,   0,   0,   0,   0,   0,  42, 116, 195, 254, 255, 212, 255, 199,  62,   0,   0,   0,   0,   0,   0,   0,   0,   0],\n",
              "       [  0,   0,   0,   0,   0,   0,   0,   0,  98, 197, 247, 253, 253, 253, 253, 253, 253, 253, 204,  10,   0,   0,   0,   0,   0,   0,   0,   0],\n",
              "       [  0,   0,   0,   0,   0,   0,   0,  35, 227, 253, 253, 253, 253, 217, 217, 174, 245, 253, 253,  83,   0,   0,   0,   0,   0,   0,   0,   0],\n",
              "       [  0,   0,   0,   0,   0,   0,   0,   0, 130, 253, 180, 170,  82,   0,   0,   0, 192, 253, 253, 129,   0,   0,   0,   0,   0,   0,   0,   0],\n",
              "       [  0,   0,   0,   0,   0,   0,   0,   0,  11,  20,   3,   0,   0,   0,  21, 145, 249, 253, 245,  74,   0,   0,   0,   0,   0,   0,   0,   0],\n",
              "       [  0,   0,   0,   0,   0,   0,   0,   0,   0,   0,   0,   0,   0,  67, 238, 253, 253, 253, 104,   0,   0,   0,   0,   0,   0,   0,   0,   0],\n",
              "       [  0,   0,   0,   0,   0,   0,   0,   0,   0,   0,   0,   0,  97, 242, 253, 253, 242,  85,   9,   0,   0,   0,   0,   0,   0,   0,   0,   0],\n",
              "       [  0,   0,   0,   0,   0,   0,   0,   0,   0,   0,   0,   0, 110, 253, 253, 226,  22,   0,   0,   0,   0,   0,   0,   0,   0,   0,   0,   0],\n",
              "       [  0,   0,   0,   0,   0,   0,   0,   0,   0,   0,   0,   0, 110, 253, 253, 128,   2,   0,   0,   0,   0,   0,   0,   0,   0,   0,   0,   0],\n",
              "       [  0,   0,   0,   0,   0,   0,   0,   0,   0,   0,   0,   0,  45, 233, 253, 253, 179,  31,   0,   0,   0,   0,   0,   0,   0,   0,   0,   0],\n",
              "       [  0,   0,   0,   0,   0,   0,   0,   0,   0,   0,   0,   0,   0,  73, 253, 253, 253, 213,  69,   0,   0,   0,   0,   0,   0,   0,   0,   0],\n",
              "       [  0,   0,   0,   0,   0,   0,   0,   0,   0,   0,   0,   0,   0,   1,  45, 210, 212, 234, 220,  32,   0,   0,   0,   0,   0,   0,   0,   0],\n",
              "       [  0,   0,   0,   0,   0,   0,   0,   0,   0,   0,   0,   0,   0,   0,   0,   0,   0,  33, 199, 165,   0,   0,   0,   0,   0,   0,   0,   0],\n",
              "       [  0,   0,   0,   0,   0,   0,   0,  45,  37,   0,   0,   0,   0,   0,   0,   0,   0,   4, 190, 233,   0,   0,   0,   0,   0,   0,   0,   0],\n",
              "       [  0,   0,   0,   0,   0,   0,   0,  58, 221,   0,   0,   0,   0,   0,   0,   0,   0, 137, 253, 233,   0,   0,   0,   0,   0,   0,   0,   0],\n",
              "       [  0,   0,   0,   0,   0,   0,   0,   0, 223, 199,  24,   0,   0,   0,   0,  12, 135, 252, 253, 233,   0,   0,   0,   0,   0,   0,   0,   0],\n",
              "       [  0,   0,   0,   0,   0,   0,   0,   0,  60, 253, 215, 104,  68,  68,  68, 217, 253, 253, 205, 128,   0,   0,   0,   0,   0,   0,   0,   0],\n",
              "       [  0,   0,   0,   0,   0,   0,   0,   0,  15, 214, 253, 253, 253, 253, 253, 253, 253, 252,  69,   0,   0,   0,   0,   0,   0,   0,   0,   0],\n",
              "       [  0,   0,   0,   0,   0,   0,   0,   0,   0,  27, 211, 253, 253, 253, 253, 253, 253, 156,   0,   0,   0,   0,   0,   0,   0,   0,   0,   0],\n",
              "       [  0,   0,   0,   0,   0,   0,   0,   0,   0,   0,  22, 115, 194, 232, 149, 149, 149,  28,   0,   0,   0,   0,   0,   0,   0,   0,   0,   0],\n",
              "       [  0,   0,   0,   0,   0,   0,   0,   0,   0,   0,   0,   0,   0,   0,   0,   0,   0,   0,   0,   0,   0,   0,   0,   0,   0,   0,   0,   0],\n",
              "       [  0,   0,   0,   0,   0,   0,   0,   0,   0,   0,   0,   0,   0,   0,   0,   0,   0,   0,   0,   0,   0,   0,   0,   0,   0,   0,   0,   0],\n",
              "       [  0,   0,   0,   0,   0,   0,   0,   0,   0,   0,   0,   0,   0,   0,   0,   0,   0,   0,   0,   0,   0,   0,   0,   0,   0,   0,   0,   0]], dtype=uint8)"
            ]
          },
          "metadata": {
            "tags": []
          },
          "execution_count": 11
        }
      ]
    },
    {
      "cell_type": "code",
      "metadata": {
        "colab": {
          "base_uri": "https://localhost:8080/"
        },
        "id": "T8BqeiDkR2Mi",
        "outputId": "9fdb4230-9d86-4f5f-dcbe-db1f017166f1"
      },
      "source": [
        "len(array(im3))"
      ],
      "execution_count": 12,
      "outputs": [
        {
          "output_type": "execute_result",
          "data": {
            "text/plain": [
              "28"
            ]
          },
          "metadata": {
            "tags": []
          },
          "execution_count": 12
        }
      ]
    },
    {
      "cell_type": "code",
      "metadata": {
        "colab": {
          "base_uri": "https://localhost:8080/"
        },
        "id": "Dj064aE2R9TD",
        "outputId": "f30d1ad3-38b8-4e2f-9471-e50b059a20ca"
      },
      "source": [
        "tensor(im3)[0:10,0:10]"
      ],
      "execution_count": 13,
      "outputs": [
        {
          "output_type": "execute_result",
          "data": {
            "text/plain": [
              "tensor([[  0,   0,   0,   0,   0,   0,   0,   0,   0,   0],\n",
              "        [  0,   0,   0,   0,   0,   0,   0,   0,   0,   0],\n",
              "        [  0,   0,   0,   0,   0,   0,   0,   0,   0,   0],\n",
              "        [  0,   0,   0,   0,   0,   0,   0,   0,   0,   0],\n",
              "        [  0,   0,   0,   0,   0,   0,   0,   0,   0,   0],\n",
              "        [  0,   0,   0,   0,   0,   0,   0,   0,   0,   0],\n",
              "        [  0,   0,   0,   0,   0,   0,   0,   0,  98, 197],\n",
              "        [  0,   0,   0,   0,   0,   0,   0,  35, 227, 253],\n",
              "        [  0,   0,   0,   0,   0,   0,   0,   0, 130, 253],\n",
              "        [  0,   0,   0,   0,   0,   0,   0,   0,  11,  20]], dtype=torch.uint8)"
            ]
          },
          "metadata": {
            "tags": []
          },
          "execution_count": 13
        }
      ]
    },
    {
      "cell_type": "markdown",
      "metadata": {
        "id": "DY8olwbeSvE_"
      },
      "source": [
        "Pandas"
      ]
    },
    {
      "cell_type": "code",
      "metadata": {
        "colab": {
          "base_uri": "https://localhost:8080/",
          "height": 589
        },
        "id": "tUnccoeFST7_",
        "outputId": "a381f13d-4693-4fdb-83fc-4c14dfedca07"
      },
      "source": [
        "im3_t = tensor(im3)\r\n",
        "df = pd.DataFrame(im3_t[10:29,14:35])\r\n",
        "df"
      ],
      "execution_count": 14,
      "outputs": [
        {
          "output_type": "execute_result",
          "data": {
            "text/html": [
              "<div>\n",
              "<style scoped>\n",
              "    .dataframe tbody tr th:only-of-type {\n",
              "        vertical-align: middle;\n",
              "    }\n",
              "\n",
              "    .dataframe tbody tr th {\n",
              "        vertical-align: top;\n",
              "    }\n",
              "\n",
              "    .dataframe thead th {\n",
              "        text-align: right;\n",
              "    }\n",
              "</style>\n",
              "<table border=\"1\" class=\"dataframe\">\n",
              "  <thead>\n",
              "    <tr style=\"text-align: right;\">\n",
              "      <th></th>\n",
              "      <th>0</th>\n",
              "      <th>1</th>\n",
              "      <th>2</th>\n",
              "      <th>3</th>\n",
              "      <th>4</th>\n",
              "      <th>5</th>\n",
              "      <th>6</th>\n",
              "      <th>7</th>\n",
              "      <th>8</th>\n",
              "      <th>9</th>\n",
              "      <th>10</th>\n",
              "      <th>11</th>\n",
              "      <th>12</th>\n",
              "      <th>13</th>\n",
              "    </tr>\n",
              "  </thead>\n",
              "  <tbody>\n",
              "    <tr>\n",
              "      <th>0</th>\n",
              "      <td>238</td>\n",
              "      <td>253</td>\n",
              "      <td>253</td>\n",
              "      <td>253</td>\n",
              "      <td>104</td>\n",
              "      <td>0</td>\n",
              "      <td>0</td>\n",
              "      <td>0</td>\n",
              "      <td>0</td>\n",
              "      <td>0</td>\n",
              "      <td>0</td>\n",
              "      <td>0</td>\n",
              "      <td>0</td>\n",
              "      <td>0</td>\n",
              "    </tr>\n",
              "    <tr>\n",
              "      <th>1</th>\n",
              "      <td>253</td>\n",
              "      <td>253</td>\n",
              "      <td>242</td>\n",
              "      <td>85</td>\n",
              "      <td>9</td>\n",
              "      <td>0</td>\n",
              "      <td>0</td>\n",
              "      <td>0</td>\n",
              "      <td>0</td>\n",
              "      <td>0</td>\n",
              "      <td>0</td>\n",
              "      <td>0</td>\n",
              "      <td>0</td>\n",
              "      <td>0</td>\n",
              "    </tr>\n",
              "    <tr>\n",
              "      <th>2</th>\n",
              "      <td>253</td>\n",
              "      <td>226</td>\n",
              "      <td>22</td>\n",
              "      <td>0</td>\n",
              "      <td>0</td>\n",
              "      <td>0</td>\n",
              "      <td>0</td>\n",
              "      <td>0</td>\n",
              "      <td>0</td>\n",
              "      <td>0</td>\n",
              "      <td>0</td>\n",
              "      <td>0</td>\n",
              "      <td>0</td>\n",
              "      <td>0</td>\n",
              "    </tr>\n",
              "    <tr>\n",
              "      <th>3</th>\n",
              "      <td>253</td>\n",
              "      <td>128</td>\n",
              "      <td>2</td>\n",
              "      <td>0</td>\n",
              "      <td>0</td>\n",
              "      <td>0</td>\n",
              "      <td>0</td>\n",
              "      <td>0</td>\n",
              "      <td>0</td>\n",
              "      <td>0</td>\n",
              "      <td>0</td>\n",
              "      <td>0</td>\n",
              "      <td>0</td>\n",
              "      <td>0</td>\n",
              "    </tr>\n",
              "    <tr>\n",
              "      <th>4</th>\n",
              "      <td>253</td>\n",
              "      <td>253</td>\n",
              "      <td>179</td>\n",
              "      <td>31</td>\n",
              "      <td>0</td>\n",
              "      <td>0</td>\n",
              "      <td>0</td>\n",
              "      <td>0</td>\n",
              "      <td>0</td>\n",
              "      <td>0</td>\n",
              "      <td>0</td>\n",
              "      <td>0</td>\n",
              "      <td>0</td>\n",
              "      <td>0</td>\n",
              "    </tr>\n",
              "    <tr>\n",
              "      <th>5</th>\n",
              "      <td>253</td>\n",
              "      <td>253</td>\n",
              "      <td>253</td>\n",
              "      <td>213</td>\n",
              "      <td>69</td>\n",
              "      <td>0</td>\n",
              "      <td>0</td>\n",
              "      <td>0</td>\n",
              "      <td>0</td>\n",
              "      <td>0</td>\n",
              "      <td>0</td>\n",
              "      <td>0</td>\n",
              "      <td>0</td>\n",
              "      <td>0</td>\n",
              "    </tr>\n",
              "    <tr>\n",
              "      <th>6</th>\n",
              "      <td>45</td>\n",
              "      <td>210</td>\n",
              "      <td>212</td>\n",
              "      <td>234</td>\n",
              "      <td>220</td>\n",
              "      <td>32</td>\n",
              "      <td>0</td>\n",
              "      <td>0</td>\n",
              "      <td>0</td>\n",
              "      <td>0</td>\n",
              "      <td>0</td>\n",
              "      <td>0</td>\n",
              "      <td>0</td>\n",
              "      <td>0</td>\n",
              "    </tr>\n",
              "    <tr>\n",
              "      <th>7</th>\n",
              "      <td>0</td>\n",
              "      <td>0</td>\n",
              "      <td>0</td>\n",
              "      <td>33</td>\n",
              "      <td>199</td>\n",
              "      <td>165</td>\n",
              "      <td>0</td>\n",
              "      <td>0</td>\n",
              "      <td>0</td>\n",
              "      <td>0</td>\n",
              "      <td>0</td>\n",
              "      <td>0</td>\n",
              "      <td>0</td>\n",
              "      <td>0</td>\n",
              "    </tr>\n",
              "    <tr>\n",
              "      <th>8</th>\n",
              "      <td>0</td>\n",
              "      <td>0</td>\n",
              "      <td>0</td>\n",
              "      <td>4</td>\n",
              "      <td>190</td>\n",
              "      <td>233</td>\n",
              "      <td>0</td>\n",
              "      <td>0</td>\n",
              "      <td>0</td>\n",
              "      <td>0</td>\n",
              "      <td>0</td>\n",
              "      <td>0</td>\n",
              "      <td>0</td>\n",
              "      <td>0</td>\n",
              "    </tr>\n",
              "    <tr>\n",
              "      <th>9</th>\n",
              "      <td>0</td>\n",
              "      <td>0</td>\n",
              "      <td>0</td>\n",
              "      <td>137</td>\n",
              "      <td>253</td>\n",
              "      <td>233</td>\n",
              "      <td>0</td>\n",
              "      <td>0</td>\n",
              "      <td>0</td>\n",
              "      <td>0</td>\n",
              "      <td>0</td>\n",
              "      <td>0</td>\n",
              "      <td>0</td>\n",
              "      <td>0</td>\n",
              "    </tr>\n",
              "    <tr>\n",
              "      <th>10</th>\n",
              "      <td>0</td>\n",
              "      <td>12</td>\n",
              "      <td>135</td>\n",
              "      <td>252</td>\n",
              "      <td>253</td>\n",
              "      <td>233</td>\n",
              "      <td>0</td>\n",
              "      <td>0</td>\n",
              "      <td>0</td>\n",
              "      <td>0</td>\n",
              "      <td>0</td>\n",
              "      <td>0</td>\n",
              "      <td>0</td>\n",
              "      <td>0</td>\n",
              "    </tr>\n",
              "    <tr>\n",
              "      <th>11</th>\n",
              "      <td>68</td>\n",
              "      <td>217</td>\n",
              "      <td>253</td>\n",
              "      <td>253</td>\n",
              "      <td>205</td>\n",
              "      <td>128</td>\n",
              "      <td>0</td>\n",
              "      <td>0</td>\n",
              "      <td>0</td>\n",
              "      <td>0</td>\n",
              "      <td>0</td>\n",
              "      <td>0</td>\n",
              "      <td>0</td>\n",
              "      <td>0</td>\n",
              "    </tr>\n",
              "    <tr>\n",
              "      <th>12</th>\n",
              "      <td>253</td>\n",
              "      <td>253</td>\n",
              "      <td>253</td>\n",
              "      <td>252</td>\n",
              "      <td>69</td>\n",
              "      <td>0</td>\n",
              "      <td>0</td>\n",
              "      <td>0</td>\n",
              "      <td>0</td>\n",
              "      <td>0</td>\n",
              "      <td>0</td>\n",
              "      <td>0</td>\n",
              "      <td>0</td>\n",
              "      <td>0</td>\n",
              "    </tr>\n",
              "    <tr>\n",
              "      <th>13</th>\n",
              "      <td>253</td>\n",
              "      <td>253</td>\n",
              "      <td>253</td>\n",
              "      <td>156</td>\n",
              "      <td>0</td>\n",
              "      <td>0</td>\n",
              "      <td>0</td>\n",
              "      <td>0</td>\n",
              "      <td>0</td>\n",
              "      <td>0</td>\n",
              "      <td>0</td>\n",
              "      <td>0</td>\n",
              "      <td>0</td>\n",
              "      <td>0</td>\n",
              "    </tr>\n",
              "    <tr>\n",
              "      <th>14</th>\n",
              "      <td>149</td>\n",
              "      <td>149</td>\n",
              "      <td>149</td>\n",
              "      <td>28</td>\n",
              "      <td>0</td>\n",
              "      <td>0</td>\n",
              "      <td>0</td>\n",
              "      <td>0</td>\n",
              "      <td>0</td>\n",
              "      <td>0</td>\n",
              "      <td>0</td>\n",
              "      <td>0</td>\n",
              "      <td>0</td>\n",
              "      <td>0</td>\n",
              "    </tr>\n",
              "    <tr>\n",
              "      <th>15</th>\n",
              "      <td>0</td>\n",
              "      <td>0</td>\n",
              "      <td>0</td>\n",
              "      <td>0</td>\n",
              "      <td>0</td>\n",
              "      <td>0</td>\n",
              "      <td>0</td>\n",
              "      <td>0</td>\n",
              "      <td>0</td>\n",
              "      <td>0</td>\n",
              "      <td>0</td>\n",
              "      <td>0</td>\n",
              "      <td>0</td>\n",
              "      <td>0</td>\n",
              "    </tr>\n",
              "    <tr>\n",
              "      <th>16</th>\n",
              "      <td>0</td>\n",
              "      <td>0</td>\n",
              "      <td>0</td>\n",
              "      <td>0</td>\n",
              "      <td>0</td>\n",
              "      <td>0</td>\n",
              "      <td>0</td>\n",
              "      <td>0</td>\n",
              "      <td>0</td>\n",
              "      <td>0</td>\n",
              "      <td>0</td>\n",
              "      <td>0</td>\n",
              "      <td>0</td>\n",
              "      <td>0</td>\n",
              "    </tr>\n",
              "    <tr>\n",
              "      <th>17</th>\n",
              "      <td>0</td>\n",
              "      <td>0</td>\n",
              "      <td>0</td>\n",
              "      <td>0</td>\n",
              "      <td>0</td>\n",
              "      <td>0</td>\n",
              "      <td>0</td>\n",
              "      <td>0</td>\n",
              "      <td>0</td>\n",
              "      <td>0</td>\n",
              "      <td>0</td>\n",
              "      <td>0</td>\n",
              "      <td>0</td>\n",
              "      <td>0</td>\n",
              "    </tr>\n",
              "  </tbody>\n",
              "</table>\n",
              "</div>"
            ],
            "text/plain": [
              "     0    1    2    3    4    5   6   7   8   9   10  11  12  13\n",
              "0   238  253  253  253  104    0   0   0   0   0   0   0   0   0\n",
              "1   253  253  242   85    9    0   0   0   0   0   0   0   0   0\n",
              "2   253  226   22    0    0    0   0   0   0   0   0   0   0   0\n",
              "3   253  128    2    0    0    0   0   0   0   0   0   0   0   0\n",
              "4   253  253  179   31    0    0   0   0   0   0   0   0   0   0\n",
              "5   253  253  253  213   69    0   0   0   0   0   0   0   0   0\n",
              "6    45  210  212  234  220   32   0   0   0   0   0   0   0   0\n",
              "7     0    0    0   33  199  165   0   0   0   0   0   0   0   0\n",
              "8     0    0    0    4  190  233   0   0   0   0   0   0   0   0\n",
              "9     0    0    0  137  253  233   0   0   0   0   0   0   0   0\n",
              "10    0   12  135  252  253  233   0   0   0   0   0   0   0   0\n",
              "11   68  217  253  253  205  128   0   0   0   0   0   0   0   0\n",
              "12  253  253  253  252   69    0   0   0   0   0   0   0   0   0\n",
              "13  253  253  253  156    0    0   0   0   0   0   0   0   0   0\n",
              "14  149  149  149   28    0    0   0   0   0   0   0   0   0   0\n",
              "15    0    0    0    0    0    0   0   0   0   0   0   0   0   0\n",
              "16    0    0    0    0    0    0   0   0   0   0   0   0   0   0\n",
              "17    0    0    0    0    0    0   0   0   0   0   0   0   0   0"
            ]
          },
          "metadata": {
            "tags": []
          },
          "execution_count": 14
        }
      ]
    },
    {
      "cell_type": "code",
      "metadata": {
        "colab": {
          "base_uri": "https://localhost:8080/",
          "height": 408
        },
        "id": "pXINjopmTIY3",
        "outputId": "81104d9f-b04d-4892-cfaa-c701b5050ba6"
      },
      "source": [
        "df.style.set_properties(**{'font-size':'6pt'}).background_gradient('Greys')"
      ],
      "execution_count": 15,
      "outputs": [
        {
          "output_type": "execute_result",
          "data": {
            "text/html": [
              "<style  type=\"text/css\" >\n",
              "#T_7e80217e_43a4_11eb_a58a_0242ac1c0002row0_col0{\n",
              "            font-size:  6pt;\n",
              "            background-color:  #111111;\n",
              "            color:  #f1f1f1;\n",
              "        }#T_7e80217e_43a4_11eb_a58a_0242ac1c0002row0_col1,#T_7e80217e_43a4_11eb_a58a_0242ac1c0002row0_col2,#T_7e80217e_43a4_11eb_a58a_0242ac1c0002row0_col3,#T_7e80217e_43a4_11eb_a58a_0242ac1c0002row1_col0,#T_7e80217e_43a4_11eb_a58a_0242ac1c0002row1_col1,#T_7e80217e_43a4_11eb_a58a_0242ac1c0002row2_col0,#T_7e80217e_43a4_11eb_a58a_0242ac1c0002row3_col0,#T_7e80217e_43a4_11eb_a58a_0242ac1c0002row4_col0,#T_7e80217e_43a4_11eb_a58a_0242ac1c0002row4_col1,#T_7e80217e_43a4_11eb_a58a_0242ac1c0002row5_col0,#T_7e80217e_43a4_11eb_a58a_0242ac1c0002row5_col1,#T_7e80217e_43a4_11eb_a58a_0242ac1c0002row5_col2,#T_7e80217e_43a4_11eb_a58a_0242ac1c0002row8_col5,#T_7e80217e_43a4_11eb_a58a_0242ac1c0002row9_col4,#T_7e80217e_43a4_11eb_a58a_0242ac1c0002row9_col5,#T_7e80217e_43a4_11eb_a58a_0242ac1c0002row10_col4,#T_7e80217e_43a4_11eb_a58a_0242ac1c0002row10_col5,#T_7e80217e_43a4_11eb_a58a_0242ac1c0002row11_col2,#T_7e80217e_43a4_11eb_a58a_0242ac1c0002row11_col3,#T_7e80217e_43a4_11eb_a58a_0242ac1c0002row12_col0,#T_7e80217e_43a4_11eb_a58a_0242ac1c0002row12_col1,#T_7e80217e_43a4_11eb_a58a_0242ac1c0002row12_col2,#T_7e80217e_43a4_11eb_a58a_0242ac1c0002row13_col0,#T_7e80217e_43a4_11eb_a58a_0242ac1c0002row13_col1,#T_7e80217e_43a4_11eb_a58a_0242ac1c0002row13_col2{\n",
              "            font-size:  6pt;\n",
              "            background-color:  #000000;\n",
              "            color:  #f1f1f1;\n",
              "        }#T_7e80217e_43a4_11eb_a58a_0242ac1c0002row0_col4{\n",
              "            font-size:  6pt;\n",
              "            background-color:  #b2b2b2;\n",
              "            color:  #000000;\n",
              "        }#T_7e80217e_43a4_11eb_a58a_0242ac1c0002row0_col5,#T_7e80217e_43a4_11eb_a58a_0242ac1c0002row0_col6,#T_7e80217e_43a4_11eb_a58a_0242ac1c0002row0_col7,#T_7e80217e_43a4_11eb_a58a_0242ac1c0002row0_col8,#T_7e80217e_43a4_11eb_a58a_0242ac1c0002row0_col9,#T_7e80217e_43a4_11eb_a58a_0242ac1c0002row0_col10,#T_7e80217e_43a4_11eb_a58a_0242ac1c0002row0_col11,#T_7e80217e_43a4_11eb_a58a_0242ac1c0002row0_col12,#T_7e80217e_43a4_11eb_a58a_0242ac1c0002row0_col13,#T_7e80217e_43a4_11eb_a58a_0242ac1c0002row1_col5,#T_7e80217e_43a4_11eb_a58a_0242ac1c0002row1_col6,#T_7e80217e_43a4_11eb_a58a_0242ac1c0002row1_col7,#T_7e80217e_43a4_11eb_a58a_0242ac1c0002row1_col8,#T_7e80217e_43a4_11eb_a58a_0242ac1c0002row1_col9,#T_7e80217e_43a4_11eb_a58a_0242ac1c0002row1_col10,#T_7e80217e_43a4_11eb_a58a_0242ac1c0002row1_col11,#T_7e80217e_43a4_11eb_a58a_0242ac1c0002row1_col12,#T_7e80217e_43a4_11eb_a58a_0242ac1c0002row1_col13,#T_7e80217e_43a4_11eb_a58a_0242ac1c0002row2_col3,#T_7e80217e_43a4_11eb_a58a_0242ac1c0002row2_col4,#T_7e80217e_43a4_11eb_a58a_0242ac1c0002row2_col5,#T_7e80217e_43a4_11eb_a58a_0242ac1c0002row2_col6,#T_7e80217e_43a4_11eb_a58a_0242ac1c0002row2_col7,#T_7e80217e_43a4_11eb_a58a_0242ac1c0002row2_col8,#T_7e80217e_43a4_11eb_a58a_0242ac1c0002row2_col9,#T_7e80217e_43a4_11eb_a58a_0242ac1c0002row2_col10,#T_7e80217e_43a4_11eb_a58a_0242ac1c0002row2_col11,#T_7e80217e_43a4_11eb_a58a_0242ac1c0002row2_col12,#T_7e80217e_43a4_11eb_a58a_0242ac1c0002row2_col13,#T_7e80217e_43a4_11eb_a58a_0242ac1c0002row3_col3,#T_7e80217e_43a4_11eb_a58a_0242ac1c0002row3_col4,#T_7e80217e_43a4_11eb_a58a_0242ac1c0002row3_col5,#T_7e80217e_43a4_11eb_a58a_0242ac1c0002row3_col6,#T_7e80217e_43a4_11eb_a58a_0242ac1c0002row3_col7,#T_7e80217e_43a4_11eb_a58a_0242ac1c0002row3_col8,#T_7e80217e_43a4_11eb_a58a_0242ac1c0002row3_col9,#T_7e80217e_43a4_11eb_a58a_0242ac1c0002row3_col10,#T_7e80217e_43a4_11eb_a58a_0242ac1c0002row3_col11,#T_7e80217e_43a4_11eb_a58a_0242ac1c0002row3_col12,#T_7e80217e_43a4_11eb_a58a_0242ac1c0002row3_col13,#T_7e80217e_43a4_11eb_a58a_0242ac1c0002row4_col4,#T_7e80217e_43a4_11eb_a58a_0242ac1c0002row4_col5,#T_7e80217e_43a4_11eb_a58a_0242ac1c0002row4_col6,#T_7e80217e_43a4_11eb_a58a_0242ac1c0002row4_col7,#T_7e80217e_43a4_11eb_a58a_0242ac1c0002row4_col8,#T_7e80217e_43a4_11eb_a58a_0242ac1c0002row4_col9,#T_7e80217e_43a4_11eb_a58a_0242ac1c0002row4_col10,#T_7e80217e_43a4_11eb_a58a_0242ac1c0002row4_col11,#T_7e80217e_43a4_11eb_a58a_0242ac1c0002row4_col12,#T_7e80217e_43a4_11eb_a58a_0242ac1c0002row4_col13,#T_7e80217e_43a4_11eb_a58a_0242ac1c0002row5_col5,#T_7e80217e_43a4_11eb_a58a_0242ac1c0002row5_col6,#T_7e80217e_43a4_11eb_a58a_0242ac1c0002row5_col7,#T_7e80217e_43a4_11eb_a58a_0242ac1c0002row5_col8,#T_7e80217e_43a4_11eb_a58a_0242ac1c0002row5_col9,#T_7e80217e_43a4_11eb_a58a_0242ac1c0002row5_col10,#T_7e80217e_43a4_11eb_a58a_0242ac1c0002row5_col11,#T_7e80217e_43a4_11eb_a58a_0242ac1c0002row5_col12,#T_7e80217e_43a4_11eb_a58a_0242ac1c0002row5_col13,#T_7e80217e_43a4_11eb_a58a_0242ac1c0002row6_col6,#T_7e80217e_43a4_11eb_a58a_0242ac1c0002row6_col7,#T_7e80217e_43a4_11eb_a58a_0242ac1c0002row6_col8,#T_7e80217e_43a4_11eb_a58a_0242ac1c0002row6_col9,#T_7e80217e_43a4_11eb_a58a_0242ac1c0002row6_col10,#T_7e80217e_43a4_11eb_a58a_0242ac1c0002row6_col11,#T_7e80217e_43a4_11eb_a58a_0242ac1c0002row6_col12,#T_7e80217e_43a4_11eb_a58a_0242ac1c0002row6_col13,#T_7e80217e_43a4_11eb_a58a_0242ac1c0002row7_col0,#T_7e80217e_43a4_11eb_a58a_0242ac1c0002row7_col1,#T_7e80217e_43a4_11eb_a58a_0242ac1c0002row7_col2,#T_7e80217e_43a4_11eb_a58a_0242ac1c0002row7_col6,#T_7e80217e_43a4_11eb_a58a_0242ac1c0002row7_col7,#T_7e80217e_43a4_11eb_a58a_0242ac1c0002row7_col8,#T_7e80217e_43a4_11eb_a58a_0242ac1c0002row7_col9,#T_7e80217e_43a4_11eb_a58a_0242ac1c0002row7_col10,#T_7e80217e_43a4_11eb_a58a_0242ac1c0002row7_col11,#T_7e80217e_43a4_11eb_a58a_0242ac1c0002row7_col12,#T_7e80217e_43a4_11eb_a58a_0242ac1c0002row7_col13,#T_7e80217e_43a4_11eb_a58a_0242ac1c0002row8_col0,#T_7e80217e_43a4_11eb_a58a_0242ac1c0002row8_col1,#T_7e80217e_43a4_11eb_a58a_0242ac1c0002row8_col2,#T_7e80217e_43a4_11eb_a58a_0242ac1c0002row8_col6,#T_7e80217e_43a4_11eb_a58a_0242ac1c0002row8_col7,#T_7e80217e_43a4_11eb_a58a_0242ac1c0002row8_col8,#T_7e80217e_43a4_11eb_a58a_0242ac1c0002row8_col9,#T_7e80217e_43a4_11eb_a58a_0242ac1c0002row8_col10,#T_7e80217e_43a4_11eb_a58a_0242ac1c0002row8_col11,#T_7e80217e_43a4_11eb_a58a_0242ac1c0002row8_col12,#T_7e80217e_43a4_11eb_a58a_0242ac1c0002row8_col13,#T_7e80217e_43a4_11eb_a58a_0242ac1c0002row9_col0,#T_7e80217e_43a4_11eb_a58a_0242ac1c0002row9_col1,#T_7e80217e_43a4_11eb_a58a_0242ac1c0002row9_col2,#T_7e80217e_43a4_11eb_a58a_0242ac1c0002row9_col6,#T_7e80217e_43a4_11eb_a58a_0242ac1c0002row9_col7,#T_7e80217e_43a4_11eb_a58a_0242ac1c0002row9_col8,#T_7e80217e_43a4_11eb_a58a_0242ac1c0002row9_col9,#T_7e80217e_43a4_11eb_a58a_0242ac1c0002row9_col10,#T_7e80217e_43a4_11eb_a58a_0242ac1c0002row9_col11,#T_7e80217e_43a4_11eb_a58a_0242ac1c0002row9_col12,#T_7e80217e_43a4_11eb_a58a_0242ac1c0002row9_col13,#T_7e80217e_43a4_11eb_a58a_0242ac1c0002row10_col0,#T_7e80217e_43a4_11eb_a58a_0242ac1c0002row10_col6,#T_7e80217e_43a4_11eb_a58a_0242ac1c0002row10_col7,#T_7e80217e_43a4_11eb_a58a_0242ac1c0002row10_col8,#T_7e80217e_43a4_11eb_a58a_0242ac1c0002row10_col9,#T_7e80217e_43a4_11eb_a58a_0242ac1c0002row10_col10,#T_7e80217e_43a4_11eb_a58a_0242ac1c0002row10_col11,#T_7e80217e_43a4_11eb_a58a_0242ac1c0002row10_col12,#T_7e80217e_43a4_11eb_a58a_0242ac1c0002row10_col13,#T_7e80217e_43a4_11eb_a58a_0242ac1c0002row11_col6,#T_7e80217e_43a4_11eb_a58a_0242ac1c0002row11_col7,#T_7e80217e_43a4_11eb_a58a_0242ac1c0002row11_col8,#T_7e80217e_43a4_11eb_a58a_0242ac1c0002row11_col9,#T_7e80217e_43a4_11eb_a58a_0242ac1c0002row11_col10,#T_7e80217e_43a4_11eb_a58a_0242ac1c0002row11_col11,#T_7e80217e_43a4_11eb_a58a_0242ac1c0002row11_col12,#T_7e80217e_43a4_11eb_a58a_0242ac1c0002row11_col13,#T_7e80217e_43a4_11eb_a58a_0242ac1c0002row12_col5,#T_7e80217e_43a4_11eb_a58a_0242ac1c0002row12_col6,#T_7e80217e_43a4_11eb_a58a_0242ac1c0002row12_col7,#T_7e80217e_43a4_11eb_a58a_0242ac1c0002row12_col8,#T_7e80217e_43a4_11eb_a58a_0242ac1c0002row12_col9,#T_7e80217e_43a4_11eb_a58a_0242ac1c0002row12_col10,#T_7e80217e_43a4_11eb_a58a_0242ac1c0002row12_col11,#T_7e80217e_43a4_11eb_a58a_0242ac1c0002row12_col12,#T_7e80217e_43a4_11eb_a58a_0242ac1c0002row12_col13,#T_7e80217e_43a4_11eb_a58a_0242ac1c0002row13_col4,#T_7e80217e_43a4_11eb_a58a_0242ac1c0002row13_col5,#T_7e80217e_43a4_11eb_a58a_0242ac1c0002row13_col6,#T_7e80217e_43a4_11eb_a58a_0242ac1c0002row13_col7,#T_7e80217e_43a4_11eb_a58a_0242ac1c0002row13_col8,#T_7e80217e_43a4_11eb_a58a_0242ac1c0002row13_col9,#T_7e80217e_43a4_11eb_a58a_0242ac1c0002row13_col10,#T_7e80217e_43a4_11eb_a58a_0242ac1c0002row13_col11,#T_7e80217e_43a4_11eb_a58a_0242ac1c0002row13_col12,#T_7e80217e_43a4_11eb_a58a_0242ac1c0002row13_col13,#T_7e80217e_43a4_11eb_a58a_0242ac1c0002row14_col4,#T_7e80217e_43a4_11eb_a58a_0242ac1c0002row14_col5,#T_7e80217e_43a4_11eb_a58a_0242ac1c0002row14_col6,#T_7e80217e_43a4_11eb_a58a_0242ac1c0002row14_col7,#T_7e80217e_43a4_11eb_a58a_0242ac1c0002row14_col8,#T_7e80217e_43a4_11eb_a58a_0242ac1c0002row14_col9,#T_7e80217e_43a4_11eb_a58a_0242ac1c0002row14_col10,#T_7e80217e_43a4_11eb_a58a_0242ac1c0002row14_col11,#T_7e80217e_43a4_11eb_a58a_0242ac1c0002row14_col12,#T_7e80217e_43a4_11eb_a58a_0242ac1c0002row14_col13,#T_7e80217e_43a4_11eb_a58a_0242ac1c0002row15_col0,#T_7e80217e_43a4_11eb_a58a_0242ac1c0002row15_col1,#T_7e80217e_43a4_11eb_a58a_0242ac1c0002row15_col2,#T_7e80217e_43a4_11eb_a58a_0242ac1c0002row15_col3,#T_7e80217e_43a4_11eb_a58a_0242ac1c0002row15_col4,#T_7e80217e_43a4_11eb_a58a_0242ac1c0002row15_col5,#T_7e80217e_43a4_11eb_a58a_0242ac1c0002row15_col6,#T_7e80217e_43a4_11eb_a58a_0242ac1c0002row15_col7,#T_7e80217e_43a4_11eb_a58a_0242ac1c0002row15_col8,#T_7e80217e_43a4_11eb_a58a_0242ac1c0002row15_col9,#T_7e80217e_43a4_11eb_a58a_0242ac1c0002row15_col10,#T_7e80217e_43a4_11eb_a58a_0242ac1c0002row15_col11,#T_7e80217e_43a4_11eb_a58a_0242ac1c0002row15_col12,#T_7e80217e_43a4_11eb_a58a_0242ac1c0002row15_col13,#T_7e80217e_43a4_11eb_a58a_0242ac1c0002row16_col0,#T_7e80217e_43a4_11eb_a58a_0242ac1c0002row16_col1,#T_7e80217e_43a4_11eb_a58a_0242ac1c0002row16_col2,#T_7e80217e_43a4_11eb_a58a_0242ac1c0002row16_col3,#T_7e80217e_43a4_11eb_a58a_0242ac1c0002row16_col4,#T_7e80217e_43a4_11eb_a58a_0242ac1c0002row16_col5,#T_7e80217e_43a4_11eb_a58a_0242ac1c0002row16_col6,#T_7e80217e_43a4_11eb_a58a_0242ac1c0002row16_col7,#T_7e80217e_43a4_11eb_a58a_0242ac1c0002row16_col8,#T_7e80217e_43a4_11eb_a58a_0242ac1c0002row16_col9,#T_7e80217e_43a4_11eb_a58a_0242ac1c0002row16_col10,#T_7e80217e_43a4_11eb_a58a_0242ac1c0002row16_col11,#T_7e80217e_43a4_11eb_a58a_0242ac1c0002row16_col12,#T_7e80217e_43a4_11eb_a58a_0242ac1c0002row16_col13,#T_7e80217e_43a4_11eb_a58a_0242ac1c0002row17_col0,#T_7e80217e_43a4_11eb_a58a_0242ac1c0002row17_col1,#T_7e80217e_43a4_11eb_a58a_0242ac1c0002row17_col2,#T_7e80217e_43a4_11eb_a58a_0242ac1c0002row17_col3,#T_7e80217e_43a4_11eb_a58a_0242ac1c0002row17_col4,#T_7e80217e_43a4_11eb_a58a_0242ac1c0002row17_col5,#T_7e80217e_43a4_11eb_a58a_0242ac1c0002row17_col6,#T_7e80217e_43a4_11eb_a58a_0242ac1c0002row17_col7,#T_7e80217e_43a4_11eb_a58a_0242ac1c0002row17_col8,#T_7e80217e_43a4_11eb_a58a_0242ac1c0002row17_col9,#T_7e80217e_43a4_11eb_a58a_0242ac1c0002row17_col10,#T_7e80217e_43a4_11eb_a58a_0242ac1c0002row17_col11,#T_7e80217e_43a4_11eb_a58a_0242ac1c0002row17_col12,#T_7e80217e_43a4_11eb_a58a_0242ac1c0002row17_col13{\n",
              "            font-size:  6pt;\n",
              "            background-color:  #ffffff;\n",
              "            color:  #000000;\n",
              "        }#T_7e80217e_43a4_11eb_a58a_0242ac1c0002row1_col2{\n",
              "            font-size:  6pt;\n",
              "            background-color:  #0d0d0d;\n",
              "            color:  #f1f1f1;\n",
              "        }#T_7e80217e_43a4_11eb_a58a_0242ac1c0002row1_col3{\n",
              "            font-size:  6pt;\n",
              "            background-color:  #c5c5c5;\n",
              "            color:  #000000;\n",
              "        }#T_7e80217e_43a4_11eb_a58a_0242ac1c0002row1_col4{\n",
              "            font-size:  6pt;\n",
              "            background-color:  #fbfbfb;\n",
              "            color:  #000000;\n",
              "        }#T_7e80217e_43a4_11eb_a58a_0242ac1c0002row2_col1{\n",
              "            font-size:  6pt;\n",
              "            background-color:  #1f1f1f;\n",
              "            color:  #f1f1f1;\n",
              "        }#T_7e80217e_43a4_11eb_a58a_0242ac1c0002row2_col2{\n",
              "            font-size:  6pt;\n",
              "            background-color:  #f5f5f5;\n",
              "            color:  #000000;\n",
              "        }#T_7e80217e_43a4_11eb_a58a_0242ac1c0002row3_col1{\n",
              "            font-size:  6pt;\n",
              "            background-color:  #949494;\n",
              "            color:  #000000;\n",
              "        }#T_7e80217e_43a4_11eb_a58a_0242ac1c0002row3_col2{\n",
              "            font-size:  6pt;\n",
              "            background-color:  #fefefe;\n",
              "            color:  #000000;\n",
              "        }#T_7e80217e_43a4_11eb_a58a_0242ac1c0002row4_col2,#T_7e80217e_43a4_11eb_a58a_0242ac1c0002row7_col5{\n",
              "            font-size:  6pt;\n",
              "            background-color:  #5d5d5d;\n",
              "            color:  #f1f1f1;\n",
              "        }#T_7e80217e_43a4_11eb_a58a_0242ac1c0002row4_col3{\n",
              "            font-size:  6pt;\n",
              "            background-color:  #f0f0f0;\n",
              "            color:  #000000;\n",
              "        }#T_7e80217e_43a4_11eb_a58a_0242ac1c0002row5_col3{\n",
              "            font-size:  6pt;\n",
              "            background-color:  #303030;\n",
              "            color:  #f1f1f1;\n",
              "        }#T_7e80217e_43a4_11eb_a58a_0242ac1c0002row5_col4,#T_7e80217e_43a4_11eb_a58a_0242ac1c0002row12_col4{\n",
              "            font-size:  6pt;\n",
              "            background-color:  #d4d4d4;\n",
              "            color:  #000000;\n",
              "        }#T_7e80217e_43a4_11eb_a58a_0242ac1c0002row6_col0{\n",
              "            font-size:  6pt;\n",
              "            background-color:  #e7e7e7;\n",
              "            color:  #000000;\n",
              "        }#T_7e80217e_43a4_11eb_a58a_0242ac1c0002row6_col1{\n",
              "            font-size:  6pt;\n",
              "            background-color:  #353535;\n",
              "            color:  #f1f1f1;\n",
              "        }#T_7e80217e_43a4_11eb_a58a_0242ac1c0002row6_col2{\n",
              "            font-size:  6pt;\n",
              "            background-color:  #323232;\n",
              "            color:  #f1f1f1;\n",
              "        }#T_7e80217e_43a4_11eb_a58a_0242ac1c0002row6_col3{\n",
              "            font-size:  6pt;\n",
              "            background-color:  #161616;\n",
              "            color:  #f1f1f1;\n",
              "        }#T_7e80217e_43a4_11eb_a58a_0242ac1c0002row6_col4{\n",
              "            font-size:  6pt;\n",
              "            background-color:  #272727;\n",
              "            color:  #f1f1f1;\n",
              "        }#T_7e80217e_43a4_11eb_a58a_0242ac1c0002row6_col5{\n",
              "            font-size:  6pt;\n",
              "            background-color:  #eeeeee;\n",
              "            color:  #000000;\n",
              "        }#T_7e80217e_43a4_11eb_a58a_0242ac1c0002row7_col3{\n",
              "            font-size:  6pt;\n",
              "            background-color:  #efefef;\n",
              "            color:  #000000;\n",
              "        }#T_7e80217e_43a4_11eb_a58a_0242ac1c0002row7_col4{\n",
              "            font-size:  6pt;\n",
              "            background-color:  #444444;\n",
              "            color:  #f1f1f1;\n",
              "        }#T_7e80217e_43a4_11eb_a58a_0242ac1c0002row8_col3{\n",
              "            font-size:  6pt;\n",
              "            background-color:  #fdfdfd;\n",
              "            color:  #000000;\n",
              "        }#T_7e80217e_43a4_11eb_a58a_0242ac1c0002row8_col4{\n",
              "            font-size:  6pt;\n",
              "            background-color:  #515151;\n",
              "            color:  #f1f1f1;\n",
              "        }#T_7e80217e_43a4_11eb_a58a_0242ac1c0002row9_col3{\n",
              "            font-size:  6pt;\n",
              "            background-color:  #8a8a8a;\n",
              "            color:  #000000;\n",
              "        }#T_7e80217e_43a4_11eb_a58a_0242ac1c0002row10_col1{\n",
              "            font-size:  6pt;\n",
              "            background-color:  #f9f9f9;\n",
              "            color:  #000000;\n",
              "        }#T_7e80217e_43a4_11eb_a58a_0242ac1c0002row10_col2{\n",
              "            font-size:  6pt;\n",
              "            background-color:  #8d8d8d;\n",
              "            color:  #000000;\n",
              "        }#T_7e80217e_43a4_11eb_a58a_0242ac1c0002row10_col3,#T_7e80217e_43a4_11eb_a58a_0242ac1c0002row12_col3{\n",
              "            font-size:  6pt;\n",
              "            background-color:  #010101;\n",
              "            color:  #f1f1f1;\n",
              "        }#T_7e80217e_43a4_11eb_a58a_0242ac1c0002row11_col0{\n",
              "            font-size:  6pt;\n",
              "            background-color:  #d5d5d5;\n",
              "            color:  #000000;\n",
              "        }#T_7e80217e_43a4_11eb_a58a_0242ac1c0002row11_col1{\n",
              "            font-size:  6pt;\n",
              "            background-color:  #2b2b2b;\n",
              "            color:  #f1f1f1;\n",
              "        }#T_7e80217e_43a4_11eb_a58a_0242ac1c0002row11_col4{\n",
              "            font-size:  6pt;\n",
              "            background-color:  #3c3c3c;\n",
              "            color:  #f1f1f1;\n",
              "        }#T_7e80217e_43a4_11eb_a58a_0242ac1c0002row11_col5{\n",
              "            font-size:  6pt;\n",
              "            background-color:  #888888;\n",
              "            color:  #000000;\n",
              "        }#T_7e80217e_43a4_11eb_a58a_0242ac1c0002row13_col3{\n",
              "            font-size:  6pt;\n",
              "            background-color:  #767676;\n",
              "            color:  #000000;\n",
              "        }#T_7e80217e_43a4_11eb_a58a_0242ac1c0002row14_col0,#T_7e80217e_43a4_11eb_a58a_0242ac1c0002row14_col1,#T_7e80217e_43a4_11eb_a58a_0242ac1c0002row14_col2{\n",
              "            font-size:  6pt;\n",
              "            background-color:  #7d7d7d;\n",
              "            color:  #000000;\n",
              "        }#T_7e80217e_43a4_11eb_a58a_0242ac1c0002row14_col3{\n",
              "            font-size:  6pt;\n",
              "            background-color:  #f2f2f2;\n",
              "            color:  #000000;\n",
              "        }</style><table id=\"T_7e80217e_43a4_11eb_a58a_0242ac1c0002\" ><thead>    <tr>        <th class=\"blank level0\" ></th>        <th class=\"col_heading level0 col0\" >0</th>        <th class=\"col_heading level0 col1\" >1</th>        <th class=\"col_heading level0 col2\" >2</th>        <th class=\"col_heading level0 col3\" >3</th>        <th class=\"col_heading level0 col4\" >4</th>        <th class=\"col_heading level0 col5\" >5</th>        <th class=\"col_heading level0 col6\" >6</th>        <th class=\"col_heading level0 col7\" >7</th>        <th class=\"col_heading level0 col8\" >8</th>        <th class=\"col_heading level0 col9\" >9</th>        <th class=\"col_heading level0 col10\" >10</th>        <th class=\"col_heading level0 col11\" >11</th>        <th class=\"col_heading level0 col12\" >12</th>        <th class=\"col_heading level0 col13\" >13</th>    </tr></thead><tbody>\n",
              "                <tr>\n",
              "                        <th id=\"T_7e80217e_43a4_11eb_a58a_0242ac1c0002level0_row0\" class=\"row_heading level0 row0\" >0</th>\n",
              "                        <td id=\"T_7e80217e_43a4_11eb_a58a_0242ac1c0002row0_col0\" class=\"data row0 col0\" >238</td>\n",
              "                        <td id=\"T_7e80217e_43a4_11eb_a58a_0242ac1c0002row0_col1\" class=\"data row0 col1\" >253</td>\n",
              "                        <td id=\"T_7e80217e_43a4_11eb_a58a_0242ac1c0002row0_col2\" class=\"data row0 col2\" >253</td>\n",
              "                        <td id=\"T_7e80217e_43a4_11eb_a58a_0242ac1c0002row0_col3\" class=\"data row0 col3\" >253</td>\n",
              "                        <td id=\"T_7e80217e_43a4_11eb_a58a_0242ac1c0002row0_col4\" class=\"data row0 col4\" >104</td>\n",
              "                        <td id=\"T_7e80217e_43a4_11eb_a58a_0242ac1c0002row0_col5\" class=\"data row0 col5\" >0</td>\n",
              "                        <td id=\"T_7e80217e_43a4_11eb_a58a_0242ac1c0002row0_col6\" class=\"data row0 col6\" >0</td>\n",
              "                        <td id=\"T_7e80217e_43a4_11eb_a58a_0242ac1c0002row0_col7\" class=\"data row0 col7\" >0</td>\n",
              "                        <td id=\"T_7e80217e_43a4_11eb_a58a_0242ac1c0002row0_col8\" class=\"data row0 col8\" >0</td>\n",
              "                        <td id=\"T_7e80217e_43a4_11eb_a58a_0242ac1c0002row0_col9\" class=\"data row0 col9\" >0</td>\n",
              "                        <td id=\"T_7e80217e_43a4_11eb_a58a_0242ac1c0002row0_col10\" class=\"data row0 col10\" >0</td>\n",
              "                        <td id=\"T_7e80217e_43a4_11eb_a58a_0242ac1c0002row0_col11\" class=\"data row0 col11\" >0</td>\n",
              "                        <td id=\"T_7e80217e_43a4_11eb_a58a_0242ac1c0002row0_col12\" class=\"data row0 col12\" >0</td>\n",
              "                        <td id=\"T_7e80217e_43a4_11eb_a58a_0242ac1c0002row0_col13\" class=\"data row0 col13\" >0</td>\n",
              "            </tr>\n",
              "            <tr>\n",
              "                        <th id=\"T_7e80217e_43a4_11eb_a58a_0242ac1c0002level0_row1\" class=\"row_heading level0 row1\" >1</th>\n",
              "                        <td id=\"T_7e80217e_43a4_11eb_a58a_0242ac1c0002row1_col0\" class=\"data row1 col0\" >253</td>\n",
              "                        <td id=\"T_7e80217e_43a4_11eb_a58a_0242ac1c0002row1_col1\" class=\"data row1 col1\" >253</td>\n",
              "                        <td id=\"T_7e80217e_43a4_11eb_a58a_0242ac1c0002row1_col2\" class=\"data row1 col2\" >242</td>\n",
              "                        <td id=\"T_7e80217e_43a4_11eb_a58a_0242ac1c0002row1_col3\" class=\"data row1 col3\" >85</td>\n",
              "                        <td id=\"T_7e80217e_43a4_11eb_a58a_0242ac1c0002row1_col4\" class=\"data row1 col4\" >9</td>\n",
              "                        <td id=\"T_7e80217e_43a4_11eb_a58a_0242ac1c0002row1_col5\" class=\"data row1 col5\" >0</td>\n",
              "                        <td id=\"T_7e80217e_43a4_11eb_a58a_0242ac1c0002row1_col6\" class=\"data row1 col6\" >0</td>\n",
              "                        <td id=\"T_7e80217e_43a4_11eb_a58a_0242ac1c0002row1_col7\" class=\"data row1 col7\" >0</td>\n",
              "                        <td id=\"T_7e80217e_43a4_11eb_a58a_0242ac1c0002row1_col8\" class=\"data row1 col8\" >0</td>\n",
              "                        <td id=\"T_7e80217e_43a4_11eb_a58a_0242ac1c0002row1_col9\" class=\"data row1 col9\" >0</td>\n",
              "                        <td id=\"T_7e80217e_43a4_11eb_a58a_0242ac1c0002row1_col10\" class=\"data row1 col10\" >0</td>\n",
              "                        <td id=\"T_7e80217e_43a4_11eb_a58a_0242ac1c0002row1_col11\" class=\"data row1 col11\" >0</td>\n",
              "                        <td id=\"T_7e80217e_43a4_11eb_a58a_0242ac1c0002row1_col12\" class=\"data row1 col12\" >0</td>\n",
              "                        <td id=\"T_7e80217e_43a4_11eb_a58a_0242ac1c0002row1_col13\" class=\"data row1 col13\" >0</td>\n",
              "            </tr>\n",
              "            <tr>\n",
              "                        <th id=\"T_7e80217e_43a4_11eb_a58a_0242ac1c0002level0_row2\" class=\"row_heading level0 row2\" >2</th>\n",
              "                        <td id=\"T_7e80217e_43a4_11eb_a58a_0242ac1c0002row2_col0\" class=\"data row2 col0\" >253</td>\n",
              "                        <td id=\"T_7e80217e_43a4_11eb_a58a_0242ac1c0002row2_col1\" class=\"data row2 col1\" >226</td>\n",
              "                        <td id=\"T_7e80217e_43a4_11eb_a58a_0242ac1c0002row2_col2\" class=\"data row2 col2\" >22</td>\n",
              "                        <td id=\"T_7e80217e_43a4_11eb_a58a_0242ac1c0002row2_col3\" class=\"data row2 col3\" >0</td>\n",
              "                        <td id=\"T_7e80217e_43a4_11eb_a58a_0242ac1c0002row2_col4\" class=\"data row2 col4\" >0</td>\n",
              "                        <td id=\"T_7e80217e_43a4_11eb_a58a_0242ac1c0002row2_col5\" class=\"data row2 col5\" >0</td>\n",
              "                        <td id=\"T_7e80217e_43a4_11eb_a58a_0242ac1c0002row2_col6\" class=\"data row2 col6\" >0</td>\n",
              "                        <td id=\"T_7e80217e_43a4_11eb_a58a_0242ac1c0002row2_col7\" class=\"data row2 col7\" >0</td>\n",
              "                        <td id=\"T_7e80217e_43a4_11eb_a58a_0242ac1c0002row2_col8\" class=\"data row2 col8\" >0</td>\n",
              "                        <td id=\"T_7e80217e_43a4_11eb_a58a_0242ac1c0002row2_col9\" class=\"data row2 col9\" >0</td>\n",
              "                        <td id=\"T_7e80217e_43a4_11eb_a58a_0242ac1c0002row2_col10\" class=\"data row2 col10\" >0</td>\n",
              "                        <td id=\"T_7e80217e_43a4_11eb_a58a_0242ac1c0002row2_col11\" class=\"data row2 col11\" >0</td>\n",
              "                        <td id=\"T_7e80217e_43a4_11eb_a58a_0242ac1c0002row2_col12\" class=\"data row2 col12\" >0</td>\n",
              "                        <td id=\"T_7e80217e_43a4_11eb_a58a_0242ac1c0002row2_col13\" class=\"data row2 col13\" >0</td>\n",
              "            </tr>\n",
              "            <tr>\n",
              "                        <th id=\"T_7e80217e_43a4_11eb_a58a_0242ac1c0002level0_row3\" class=\"row_heading level0 row3\" >3</th>\n",
              "                        <td id=\"T_7e80217e_43a4_11eb_a58a_0242ac1c0002row3_col0\" class=\"data row3 col0\" >253</td>\n",
              "                        <td id=\"T_7e80217e_43a4_11eb_a58a_0242ac1c0002row3_col1\" class=\"data row3 col1\" >128</td>\n",
              "                        <td id=\"T_7e80217e_43a4_11eb_a58a_0242ac1c0002row3_col2\" class=\"data row3 col2\" >2</td>\n",
              "                        <td id=\"T_7e80217e_43a4_11eb_a58a_0242ac1c0002row3_col3\" class=\"data row3 col3\" >0</td>\n",
              "                        <td id=\"T_7e80217e_43a4_11eb_a58a_0242ac1c0002row3_col4\" class=\"data row3 col4\" >0</td>\n",
              "                        <td id=\"T_7e80217e_43a4_11eb_a58a_0242ac1c0002row3_col5\" class=\"data row3 col5\" >0</td>\n",
              "                        <td id=\"T_7e80217e_43a4_11eb_a58a_0242ac1c0002row3_col6\" class=\"data row3 col6\" >0</td>\n",
              "                        <td id=\"T_7e80217e_43a4_11eb_a58a_0242ac1c0002row3_col7\" class=\"data row3 col7\" >0</td>\n",
              "                        <td id=\"T_7e80217e_43a4_11eb_a58a_0242ac1c0002row3_col8\" class=\"data row3 col8\" >0</td>\n",
              "                        <td id=\"T_7e80217e_43a4_11eb_a58a_0242ac1c0002row3_col9\" class=\"data row3 col9\" >0</td>\n",
              "                        <td id=\"T_7e80217e_43a4_11eb_a58a_0242ac1c0002row3_col10\" class=\"data row3 col10\" >0</td>\n",
              "                        <td id=\"T_7e80217e_43a4_11eb_a58a_0242ac1c0002row3_col11\" class=\"data row3 col11\" >0</td>\n",
              "                        <td id=\"T_7e80217e_43a4_11eb_a58a_0242ac1c0002row3_col12\" class=\"data row3 col12\" >0</td>\n",
              "                        <td id=\"T_7e80217e_43a4_11eb_a58a_0242ac1c0002row3_col13\" class=\"data row3 col13\" >0</td>\n",
              "            </tr>\n",
              "            <tr>\n",
              "                        <th id=\"T_7e80217e_43a4_11eb_a58a_0242ac1c0002level0_row4\" class=\"row_heading level0 row4\" >4</th>\n",
              "                        <td id=\"T_7e80217e_43a4_11eb_a58a_0242ac1c0002row4_col0\" class=\"data row4 col0\" >253</td>\n",
              "                        <td id=\"T_7e80217e_43a4_11eb_a58a_0242ac1c0002row4_col1\" class=\"data row4 col1\" >253</td>\n",
              "                        <td id=\"T_7e80217e_43a4_11eb_a58a_0242ac1c0002row4_col2\" class=\"data row4 col2\" >179</td>\n",
              "                        <td id=\"T_7e80217e_43a4_11eb_a58a_0242ac1c0002row4_col3\" class=\"data row4 col3\" >31</td>\n",
              "                        <td id=\"T_7e80217e_43a4_11eb_a58a_0242ac1c0002row4_col4\" class=\"data row4 col4\" >0</td>\n",
              "                        <td id=\"T_7e80217e_43a4_11eb_a58a_0242ac1c0002row4_col5\" class=\"data row4 col5\" >0</td>\n",
              "                        <td id=\"T_7e80217e_43a4_11eb_a58a_0242ac1c0002row4_col6\" class=\"data row4 col6\" >0</td>\n",
              "                        <td id=\"T_7e80217e_43a4_11eb_a58a_0242ac1c0002row4_col7\" class=\"data row4 col7\" >0</td>\n",
              "                        <td id=\"T_7e80217e_43a4_11eb_a58a_0242ac1c0002row4_col8\" class=\"data row4 col8\" >0</td>\n",
              "                        <td id=\"T_7e80217e_43a4_11eb_a58a_0242ac1c0002row4_col9\" class=\"data row4 col9\" >0</td>\n",
              "                        <td id=\"T_7e80217e_43a4_11eb_a58a_0242ac1c0002row4_col10\" class=\"data row4 col10\" >0</td>\n",
              "                        <td id=\"T_7e80217e_43a4_11eb_a58a_0242ac1c0002row4_col11\" class=\"data row4 col11\" >0</td>\n",
              "                        <td id=\"T_7e80217e_43a4_11eb_a58a_0242ac1c0002row4_col12\" class=\"data row4 col12\" >0</td>\n",
              "                        <td id=\"T_7e80217e_43a4_11eb_a58a_0242ac1c0002row4_col13\" class=\"data row4 col13\" >0</td>\n",
              "            </tr>\n",
              "            <tr>\n",
              "                        <th id=\"T_7e80217e_43a4_11eb_a58a_0242ac1c0002level0_row5\" class=\"row_heading level0 row5\" >5</th>\n",
              "                        <td id=\"T_7e80217e_43a4_11eb_a58a_0242ac1c0002row5_col0\" class=\"data row5 col0\" >253</td>\n",
              "                        <td id=\"T_7e80217e_43a4_11eb_a58a_0242ac1c0002row5_col1\" class=\"data row5 col1\" >253</td>\n",
              "                        <td id=\"T_7e80217e_43a4_11eb_a58a_0242ac1c0002row5_col2\" class=\"data row5 col2\" >253</td>\n",
              "                        <td id=\"T_7e80217e_43a4_11eb_a58a_0242ac1c0002row5_col3\" class=\"data row5 col3\" >213</td>\n",
              "                        <td id=\"T_7e80217e_43a4_11eb_a58a_0242ac1c0002row5_col4\" class=\"data row5 col4\" >69</td>\n",
              "                        <td id=\"T_7e80217e_43a4_11eb_a58a_0242ac1c0002row5_col5\" class=\"data row5 col5\" >0</td>\n",
              "                        <td id=\"T_7e80217e_43a4_11eb_a58a_0242ac1c0002row5_col6\" class=\"data row5 col6\" >0</td>\n",
              "                        <td id=\"T_7e80217e_43a4_11eb_a58a_0242ac1c0002row5_col7\" class=\"data row5 col7\" >0</td>\n",
              "                        <td id=\"T_7e80217e_43a4_11eb_a58a_0242ac1c0002row5_col8\" class=\"data row5 col8\" >0</td>\n",
              "                        <td id=\"T_7e80217e_43a4_11eb_a58a_0242ac1c0002row5_col9\" class=\"data row5 col9\" >0</td>\n",
              "                        <td id=\"T_7e80217e_43a4_11eb_a58a_0242ac1c0002row5_col10\" class=\"data row5 col10\" >0</td>\n",
              "                        <td id=\"T_7e80217e_43a4_11eb_a58a_0242ac1c0002row5_col11\" class=\"data row5 col11\" >0</td>\n",
              "                        <td id=\"T_7e80217e_43a4_11eb_a58a_0242ac1c0002row5_col12\" class=\"data row5 col12\" >0</td>\n",
              "                        <td id=\"T_7e80217e_43a4_11eb_a58a_0242ac1c0002row5_col13\" class=\"data row5 col13\" >0</td>\n",
              "            </tr>\n",
              "            <tr>\n",
              "                        <th id=\"T_7e80217e_43a4_11eb_a58a_0242ac1c0002level0_row6\" class=\"row_heading level0 row6\" >6</th>\n",
              "                        <td id=\"T_7e80217e_43a4_11eb_a58a_0242ac1c0002row6_col0\" class=\"data row6 col0\" >45</td>\n",
              "                        <td id=\"T_7e80217e_43a4_11eb_a58a_0242ac1c0002row6_col1\" class=\"data row6 col1\" >210</td>\n",
              "                        <td id=\"T_7e80217e_43a4_11eb_a58a_0242ac1c0002row6_col2\" class=\"data row6 col2\" >212</td>\n",
              "                        <td id=\"T_7e80217e_43a4_11eb_a58a_0242ac1c0002row6_col3\" class=\"data row6 col3\" >234</td>\n",
              "                        <td id=\"T_7e80217e_43a4_11eb_a58a_0242ac1c0002row6_col4\" class=\"data row6 col4\" >220</td>\n",
              "                        <td id=\"T_7e80217e_43a4_11eb_a58a_0242ac1c0002row6_col5\" class=\"data row6 col5\" >32</td>\n",
              "                        <td id=\"T_7e80217e_43a4_11eb_a58a_0242ac1c0002row6_col6\" class=\"data row6 col6\" >0</td>\n",
              "                        <td id=\"T_7e80217e_43a4_11eb_a58a_0242ac1c0002row6_col7\" class=\"data row6 col7\" >0</td>\n",
              "                        <td id=\"T_7e80217e_43a4_11eb_a58a_0242ac1c0002row6_col8\" class=\"data row6 col8\" >0</td>\n",
              "                        <td id=\"T_7e80217e_43a4_11eb_a58a_0242ac1c0002row6_col9\" class=\"data row6 col9\" >0</td>\n",
              "                        <td id=\"T_7e80217e_43a4_11eb_a58a_0242ac1c0002row6_col10\" class=\"data row6 col10\" >0</td>\n",
              "                        <td id=\"T_7e80217e_43a4_11eb_a58a_0242ac1c0002row6_col11\" class=\"data row6 col11\" >0</td>\n",
              "                        <td id=\"T_7e80217e_43a4_11eb_a58a_0242ac1c0002row6_col12\" class=\"data row6 col12\" >0</td>\n",
              "                        <td id=\"T_7e80217e_43a4_11eb_a58a_0242ac1c0002row6_col13\" class=\"data row6 col13\" >0</td>\n",
              "            </tr>\n",
              "            <tr>\n",
              "                        <th id=\"T_7e80217e_43a4_11eb_a58a_0242ac1c0002level0_row7\" class=\"row_heading level0 row7\" >7</th>\n",
              "                        <td id=\"T_7e80217e_43a4_11eb_a58a_0242ac1c0002row7_col0\" class=\"data row7 col0\" >0</td>\n",
              "                        <td id=\"T_7e80217e_43a4_11eb_a58a_0242ac1c0002row7_col1\" class=\"data row7 col1\" >0</td>\n",
              "                        <td id=\"T_7e80217e_43a4_11eb_a58a_0242ac1c0002row7_col2\" class=\"data row7 col2\" >0</td>\n",
              "                        <td id=\"T_7e80217e_43a4_11eb_a58a_0242ac1c0002row7_col3\" class=\"data row7 col3\" >33</td>\n",
              "                        <td id=\"T_7e80217e_43a4_11eb_a58a_0242ac1c0002row7_col4\" class=\"data row7 col4\" >199</td>\n",
              "                        <td id=\"T_7e80217e_43a4_11eb_a58a_0242ac1c0002row7_col5\" class=\"data row7 col5\" >165</td>\n",
              "                        <td id=\"T_7e80217e_43a4_11eb_a58a_0242ac1c0002row7_col6\" class=\"data row7 col6\" >0</td>\n",
              "                        <td id=\"T_7e80217e_43a4_11eb_a58a_0242ac1c0002row7_col7\" class=\"data row7 col7\" >0</td>\n",
              "                        <td id=\"T_7e80217e_43a4_11eb_a58a_0242ac1c0002row7_col8\" class=\"data row7 col8\" >0</td>\n",
              "                        <td id=\"T_7e80217e_43a4_11eb_a58a_0242ac1c0002row7_col9\" class=\"data row7 col9\" >0</td>\n",
              "                        <td id=\"T_7e80217e_43a4_11eb_a58a_0242ac1c0002row7_col10\" class=\"data row7 col10\" >0</td>\n",
              "                        <td id=\"T_7e80217e_43a4_11eb_a58a_0242ac1c0002row7_col11\" class=\"data row7 col11\" >0</td>\n",
              "                        <td id=\"T_7e80217e_43a4_11eb_a58a_0242ac1c0002row7_col12\" class=\"data row7 col12\" >0</td>\n",
              "                        <td id=\"T_7e80217e_43a4_11eb_a58a_0242ac1c0002row7_col13\" class=\"data row7 col13\" >0</td>\n",
              "            </tr>\n",
              "            <tr>\n",
              "                        <th id=\"T_7e80217e_43a4_11eb_a58a_0242ac1c0002level0_row8\" class=\"row_heading level0 row8\" >8</th>\n",
              "                        <td id=\"T_7e80217e_43a4_11eb_a58a_0242ac1c0002row8_col0\" class=\"data row8 col0\" >0</td>\n",
              "                        <td id=\"T_7e80217e_43a4_11eb_a58a_0242ac1c0002row8_col1\" class=\"data row8 col1\" >0</td>\n",
              "                        <td id=\"T_7e80217e_43a4_11eb_a58a_0242ac1c0002row8_col2\" class=\"data row8 col2\" >0</td>\n",
              "                        <td id=\"T_7e80217e_43a4_11eb_a58a_0242ac1c0002row8_col3\" class=\"data row8 col3\" >4</td>\n",
              "                        <td id=\"T_7e80217e_43a4_11eb_a58a_0242ac1c0002row8_col4\" class=\"data row8 col4\" >190</td>\n",
              "                        <td id=\"T_7e80217e_43a4_11eb_a58a_0242ac1c0002row8_col5\" class=\"data row8 col5\" >233</td>\n",
              "                        <td id=\"T_7e80217e_43a4_11eb_a58a_0242ac1c0002row8_col6\" class=\"data row8 col6\" >0</td>\n",
              "                        <td id=\"T_7e80217e_43a4_11eb_a58a_0242ac1c0002row8_col7\" class=\"data row8 col7\" >0</td>\n",
              "                        <td id=\"T_7e80217e_43a4_11eb_a58a_0242ac1c0002row8_col8\" class=\"data row8 col8\" >0</td>\n",
              "                        <td id=\"T_7e80217e_43a4_11eb_a58a_0242ac1c0002row8_col9\" class=\"data row8 col9\" >0</td>\n",
              "                        <td id=\"T_7e80217e_43a4_11eb_a58a_0242ac1c0002row8_col10\" class=\"data row8 col10\" >0</td>\n",
              "                        <td id=\"T_7e80217e_43a4_11eb_a58a_0242ac1c0002row8_col11\" class=\"data row8 col11\" >0</td>\n",
              "                        <td id=\"T_7e80217e_43a4_11eb_a58a_0242ac1c0002row8_col12\" class=\"data row8 col12\" >0</td>\n",
              "                        <td id=\"T_7e80217e_43a4_11eb_a58a_0242ac1c0002row8_col13\" class=\"data row8 col13\" >0</td>\n",
              "            </tr>\n",
              "            <tr>\n",
              "                        <th id=\"T_7e80217e_43a4_11eb_a58a_0242ac1c0002level0_row9\" class=\"row_heading level0 row9\" >9</th>\n",
              "                        <td id=\"T_7e80217e_43a4_11eb_a58a_0242ac1c0002row9_col0\" class=\"data row9 col0\" >0</td>\n",
              "                        <td id=\"T_7e80217e_43a4_11eb_a58a_0242ac1c0002row9_col1\" class=\"data row9 col1\" >0</td>\n",
              "                        <td id=\"T_7e80217e_43a4_11eb_a58a_0242ac1c0002row9_col2\" class=\"data row9 col2\" >0</td>\n",
              "                        <td id=\"T_7e80217e_43a4_11eb_a58a_0242ac1c0002row9_col3\" class=\"data row9 col3\" >137</td>\n",
              "                        <td id=\"T_7e80217e_43a4_11eb_a58a_0242ac1c0002row9_col4\" class=\"data row9 col4\" >253</td>\n",
              "                        <td id=\"T_7e80217e_43a4_11eb_a58a_0242ac1c0002row9_col5\" class=\"data row9 col5\" >233</td>\n",
              "                        <td id=\"T_7e80217e_43a4_11eb_a58a_0242ac1c0002row9_col6\" class=\"data row9 col6\" >0</td>\n",
              "                        <td id=\"T_7e80217e_43a4_11eb_a58a_0242ac1c0002row9_col7\" class=\"data row9 col7\" >0</td>\n",
              "                        <td id=\"T_7e80217e_43a4_11eb_a58a_0242ac1c0002row9_col8\" class=\"data row9 col8\" >0</td>\n",
              "                        <td id=\"T_7e80217e_43a4_11eb_a58a_0242ac1c0002row9_col9\" class=\"data row9 col9\" >0</td>\n",
              "                        <td id=\"T_7e80217e_43a4_11eb_a58a_0242ac1c0002row9_col10\" class=\"data row9 col10\" >0</td>\n",
              "                        <td id=\"T_7e80217e_43a4_11eb_a58a_0242ac1c0002row9_col11\" class=\"data row9 col11\" >0</td>\n",
              "                        <td id=\"T_7e80217e_43a4_11eb_a58a_0242ac1c0002row9_col12\" class=\"data row9 col12\" >0</td>\n",
              "                        <td id=\"T_7e80217e_43a4_11eb_a58a_0242ac1c0002row9_col13\" class=\"data row9 col13\" >0</td>\n",
              "            </tr>\n",
              "            <tr>\n",
              "                        <th id=\"T_7e80217e_43a4_11eb_a58a_0242ac1c0002level0_row10\" class=\"row_heading level0 row10\" >10</th>\n",
              "                        <td id=\"T_7e80217e_43a4_11eb_a58a_0242ac1c0002row10_col0\" class=\"data row10 col0\" >0</td>\n",
              "                        <td id=\"T_7e80217e_43a4_11eb_a58a_0242ac1c0002row10_col1\" class=\"data row10 col1\" >12</td>\n",
              "                        <td id=\"T_7e80217e_43a4_11eb_a58a_0242ac1c0002row10_col2\" class=\"data row10 col2\" >135</td>\n",
              "                        <td id=\"T_7e80217e_43a4_11eb_a58a_0242ac1c0002row10_col3\" class=\"data row10 col3\" >252</td>\n",
              "                        <td id=\"T_7e80217e_43a4_11eb_a58a_0242ac1c0002row10_col4\" class=\"data row10 col4\" >253</td>\n",
              "                        <td id=\"T_7e80217e_43a4_11eb_a58a_0242ac1c0002row10_col5\" class=\"data row10 col5\" >233</td>\n",
              "                        <td id=\"T_7e80217e_43a4_11eb_a58a_0242ac1c0002row10_col6\" class=\"data row10 col6\" >0</td>\n",
              "                        <td id=\"T_7e80217e_43a4_11eb_a58a_0242ac1c0002row10_col7\" class=\"data row10 col7\" >0</td>\n",
              "                        <td id=\"T_7e80217e_43a4_11eb_a58a_0242ac1c0002row10_col8\" class=\"data row10 col8\" >0</td>\n",
              "                        <td id=\"T_7e80217e_43a4_11eb_a58a_0242ac1c0002row10_col9\" class=\"data row10 col9\" >0</td>\n",
              "                        <td id=\"T_7e80217e_43a4_11eb_a58a_0242ac1c0002row10_col10\" class=\"data row10 col10\" >0</td>\n",
              "                        <td id=\"T_7e80217e_43a4_11eb_a58a_0242ac1c0002row10_col11\" class=\"data row10 col11\" >0</td>\n",
              "                        <td id=\"T_7e80217e_43a4_11eb_a58a_0242ac1c0002row10_col12\" class=\"data row10 col12\" >0</td>\n",
              "                        <td id=\"T_7e80217e_43a4_11eb_a58a_0242ac1c0002row10_col13\" class=\"data row10 col13\" >0</td>\n",
              "            </tr>\n",
              "            <tr>\n",
              "                        <th id=\"T_7e80217e_43a4_11eb_a58a_0242ac1c0002level0_row11\" class=\"row_heading level0 row11\" >11</th>\n",
              "                        <td id=\"T_7e80217e_43a4_11eb_a58a_0242ac1c0002row11_col0\" class=\"data row11 col0\" >68</td>\n",
              "                        <td id=\"T_7e80217e_43a4_11eb_a58a_0242ac1c0002row11_col1\" class=\"data row11 col1\" >217</td>\n",
              "                        <td id=\"T_7e80217e_43a4_11eb_a58a_0242ac1c0002row11_col2\" class=\"data row11 col2\" >253</td>\n",
              "                        <td id=\"T_7e80217e_43a4_11eb_a58a_0242ac1c0002row11_col3\" class=\"data row11 col3\" >253</td>\n",
              "                        <td id=\"T_7e80217e_43a4_11eb_a58a_0242ac1c0002row11_col4\" class=\"data row11 col4\" >205</td>\n",
              "                        <td id=\"T_7e80217e_43a4_11eb_a58a_0242ac1c0002row11_col5\" class=\"data row11 col5\" >128</td>\n",
              "                        <td id=\"T_7e80217e_43a4_11eb_a58a_0242ac1c0002row11_col6\" class=\"data row11 col6\" >0</td>\n",
              "                        <td id=\"T_7e80217e_43a4_11eb_a58a_0242ac1c0002row11_col7\" class=\"data row11 col7\" >0</td>\n",
              "                        <td id=\"T_7e80217e_43a4_11eb_a58a_0242ac1c0002row11_col8\" class=\"data row11 col8\" >0</td>\n",
              "                        <td id=\"T_7e80217e_43a4_11eb_a58a_0242ac1c0002row11_col9\" class=\"data row11 col9\" >0</td>\n",
              "                        <td id=\"T_7e80217e_43a4_11eb_a58a_0242ac1c0002row11_col10\" class=\"data row11 col10\" >0</td>\n",
              "                        <td id=\"T_7e80217e_43a4_11eb_a58a_0242ac1c0002row11_col11\" class=\"data row11 col11\" >0</td>\n",
              "                        <td id=\"T_7e80217e_43a4_11eb_a58a_0242ac1c0002row11_col12\" class=\"data row11 col12\" >0</td>\n",
              "                        <td id=\"T_7e80217e_43a4_11eb_a58a_0242ac1c0002row11_col13\" class=\"data row11 col13\" >0</td>\n",
              "            </tr>\n",
              "            <tr>\n",
              "                        <th id=\"T_7e80217e_43a4_11eb_a58a_0242ac1c0002level0_row12\" class=\"row_heading level0 row12\" >12</th>\n",
              "                        <td id=\"T_7e80217e_43a4_11eb_a58a_0242ac1c0002row12_col0\" class=\"data row12 col0\" >253</td>\n",
              "                        <td id=\"T_7e80217e_43a4_11eb_a58a_0242ac1c0002row12_col1\" class=\"data row12 col1\" >253</td>\n",
              "                        <td id=\"T_7e80217e_43a4_11eb_a58a_0242ac1c0002row12_col2\" class=\"data row12 col2\" >253</td>\n",
              "                        <td id=\"T_7e80217e_43a4_11eb_a58a_0242ac1c0002row12_col3\" class=\"data row12 col3\" >252</td>\n",
              "                        <td id=\"T_7e80217e_43a4_11eb_a58a_0242ac1c0002row12_col4\" class=\"data row12 col4\" >69</td>\n",
              "                        <td id=\"T_7e80217e_43a4_11eb_a58a_0242ac1c0002row12_col5\" class=\"data row12 col5\" >0</td>\n",
              "                        <td id=\"T_7e80217e_43a4_11eb_a58a_0242ac1c0002row12_col6\" class=\"data row12 col6\" >0</td>\n",
              "                        <td id=\"T_7e80217e_43a4_11eb_a58a_0242ac1c0002row12_col7\" class=\"data row12 col7\" >0</td>\n",
              "                        <td id=\"T_7e80217e_43a4_11eb_a58a_0242ac1c0002row12_col8\" class=\"data row12 col8\" >0</td>\n",
              "                        <td id=\"T_7e80217e_43a4_11eb_a58a_0242ac1c0002row12_col9\" class=\"data row12 col9\" >0</td>\n",
              "                        <td id=\"T_7e80217e_43a4_11eb_a58a_0242ac1c0002row12_col10\" class=\"data row12 col10\" >0</td>\n",
              "                        <td id=\"T_7e80217e_43a4_11eb_a58a_0242ac1c0002row12_col11\" class=\"data row12 col11\" >0</td>\n",
              "                        <td id=\"T_7e80217e_43a4_11eb_a58a_0242ac1c0002row12_col12\" class=\"data row12 col12\" >0</td>\n",
              "                        <td id=\"T_7e80217e_43a4_11eb_a58a_0242ac1c0002row12_col13\" class=\"data row12 col13\" >0</td>\n",
              "            </tr>\n",
              "            <tr>\n",
              "                        <th id=\"T_7e80217e_43a4_11eb_a58a_0242ac1c0002level0_row13\" class=\"row_heading level0 row13\" >13</th>\n",
              "                        <td id=\"T_7e80217e_43a4_11eb_a58a_0242ac1c0002row13_col0\" class=\"data row13 col0\" >253</td>\n",
              "                        <td id=\"T_7e80217e_43a4_11eb_a58a_0242ac1c0002row13_col1\" class=\"data row13 col1\" >253</td>\n",
              "                        <td id=\"T_7e80217e_43a4_11eb_a58a_0242ac1c0002row13_col2\" class=\"data row13 col2\" >253</td>\n",
              "                        <td id=\"T_7e80217e_43a4_11eb_a58a_0242ac1c0002row13_col3\" class=\"data row13 col3\" >156</td>\n",
              "                        <td id=\"T_7e80217e_43a4_11eb_a58a_0242ac1c0002row13_col4\" class=\"data row13 col4\" >0</td>\n",
              "                        <td id=\"T_7e80217e_43a4_11eb_a58a_0242ac1c0002row13_col5\" class=\"data row13 col5\" >0</td>\n",
              "                        <td id=\"T_7e80217e_43a4_11eb_a58a_0242ac1c0002row13_col6\" class=\"data row13 col6\" >0</td>\n",
              "                        <td id=\"T_7e80217e_43a4_11eb_a58a_0242ac1c0002row13_col7\" class=\"data row13 col7\" >0</td>\n",
              "                        <td id=\"T_7e80217e_43a4_11eb_a58a_0242ac1c0002row13_col8\" class=\"data row13 col8\" >0</td>\n",
              "                        <td id=\"T_7e80217e_43a4_11eb_a58a_0242ac1c0002row13_col9\" class=\"data row13 col9\" >0</td>\n",
              "                        <td id=\"T_7e80217e_43a4_11eb_a58a_0242ac1c0002row13_col10\" class=\"data row13 col10\" >0</td>\n",
              "                        <td id=\"T_7e80217e_43a4_11eb_a58a_0242ac1c0002row13_col11\" class=\"data row13 col11\" >0</td>\n",
              "                        <td id=\"T_7e80217e_43a4_11eb_a58a_0242ac1c0002row13_col12\" class=\"data row13 col12\" >0</td>\n",
              "                        <td id=\"T_7e80217e_43a4_11eb_a58a_0242ac1c0002row13_col13\" class=\"data row13 col13\" >0</td>\n",
              "            </tr>\n",
              "            <tr>\n",
              "                        <th id=\"T_7e80217e_43a4_11eb_a58a_0242ac1c0002level0_row14\" class=\"row_heading level0 row14\" >14</th>\n",
              "                        <td id=\"T_7e80217e_43a4_11eb_a58a_0242ac1c0002row14_col0\" class=\"data row14 col0\" >149</td>\n",
              "                        <td id=\"T_7e80217e_43a4_11eb_a58a_0242ac1c0002row14_col1\" class=\"data row14 col1\" >149</td>\n",
              "                        <td id=\"T_7e80217e_43a4_11eb_a58a_0242ac1c0002row14_col2\" class=\"data row14 col2\" >149</td>\n",
              "                        <td id=\"T_7e80217e_43a4_11eb_a58a_0242ac1c0002row14_col3\" class=\"data row14 col3\" >28</td>\n",
              "                        <td id=\"T_7e80217e_43a4_11eb_a58a_0242ac1c0002row14_col4\" class=\"data row14 col4\" >0</td>\n",
              "                        <td id=\"T_7e80217e_43a4_11eb_a58a_0242ac1c0002row14_col5\" class=\"data row14 col5\" >0</td>\n",
              "                        <td id=\"T_7e80217e_43a4_11eb_a58a_0242ac1c0002row14_col6\" class=\"data row14 col6\" >0</td>\n",
              "                        <td id=\"T_7e80217e_43a4_11eb_a58a_0242ac1c0002row14_col7\" class=\"data row14 col7\" >0</td>\n",
              "                        <td id=\"T_7e80217e_43a4_11eb_a58a_0242ac1c0002row14_col8\" class=\"data row14 col8\" >0</td>\n",
              "                        <td id=\"T_7e80217e_43a4_11eb_a58a_0242ac1c0002row14_col9\" class=\"data row14 col9\" >0</td>\n",
              "                        <td id=\"T_7e80217e_43a4_11eb_a58a_0242ac1c0002row14_col10\" class=\"data row14 col10\" >0</td>\n",
              "                        <td id=\"T_7e80217e_43a4_11eb_a58a_0242ac1c0002row14_col11\" class=\"data row14 col11\" >0</td>\n",
              "                        <td id=\"T_7e80217e_43a4_11eb_a58a_0242ac1c0002row14_col12\" class=\"data row14 col12\" >0</td>\n",
              "                        <td id=\"T_7e80217e_43a4_11eb_a58a_0242ac1c0002row14_col13\" class=\"data row14 col13\" >0</td>\n",
              "            </tr>\n",
              "            <tr>\n",
              "                        <th id=\"T_7e80217e_43a4_11eb_a58a_0242ac1c0002level0_row15\" class=\"row_heading level0 row15\" >15</th>\n",
              "                        <td id=\"T_7e80217e_43a4_11eb_a58a_0242ac1c0002row15_col0\" class=\"data row15 col0\" >0</td>\n",
              "                        <td id=\"T_7e80217e_43a4_11eb_a58a_0242ac1c0002row15_col1\" class=\"data row15 col1\" >0</td>\n",
              "                        <td id=\"T_7e80217e_43a4_11eb_a58a_0242ac1c0002row15_col2\" class=\"data row15 col2\" >0</td>\n",
              "                        <td id=\"T_7e80217e_43a4_11eb_a58a_0242ac1c0002row15_col3\" class=\"data row15 col3\" >0</td>\n",
              "                        <td id=\"T_7e80217e_43a4_11eb_a58a_0242ac1c0002row15_col4\" class=\"data row15 col4\" >0</td>\n",
              "                        <td id=\"T_7e80217e_43a4_11eb_a58a_0242ac1c0002row15_col5\" class=\"data row15 col5\" >0</td>\n",
              "                        <td id=\"T_7e80217e_43a4_11eb_a58a_0242ac1c0002row15_col6\" class=\"data row15 col6\" >0</td>\n",
              "                        <td id=\"T_7e80217e_43a4_11eb_a58a_0242ac1c0002row15_col7\" class=\"data row15 col7\" >0</td>\n",
              "                        <td id=\"T_7e80217e_43a4_11eb_a58a_0242ac1c0002row15_col8\" class=\"data row15 col8\" >0</td>\n",
              "                        <td id=\"T_7e80217e_43a4_11eb_a58a_0242ac1c0002row15_col9\" class=\"data row15 col9\" >0</td>\n",
              "                        <td id=\"T_7e80217e_43a4_11eb_a58a_0242ac1c0002row15_col10\" class=\"data row15 col10\" >0</td>\n",
              "                        <td id=\"T_7e80217e_43a4_11eb_a58a_0242ac1c0002row15_col11\" class=\"data row15 col11\" >0</td>\n",
              "                        <td id=\"T_7e80217e_43a4_11eb_a58a_0242ac1c0002row15_col12\" class=\"data row15 col12\" >0</td>\n",
              "                        <td id=\"T_7e80217e_43a4_11eb_a58a_0242ac1c0002row15_col13\" class=\"data row15 col13\" >0</td>\n",
              "            </tr>\n",
              "            <tr>\n",
              "                        <th id=\"T_7e80217e_43a4_11eb_a58a_0242ac1c0002level0_row16\" class=\"row_heading level0 row16\" >16</th>\n",
              "                        <td id=\"T_7e80217e_43a4_11eb_a58a_0242ac1c0002row16_col0\" class=\"data row16 col0\" >0</td>\n",
              "                        <td id=\"T_7e80217e_43a4_11eb_a58a_0242ac1c0002row16_col1\" class=\"data row16 col1\" >0</td>\n",
              "                        <td id=\"T_7e80217e_43a4_11eb_a58a_0242ac1c0002row16_col2\" class=\"data row16 col2\" >0</td>\n",
              "                        <td id=\"T_7e80217e_43a4_11eb_a58a_0242ac1c0002row16_col3\" class=\"data row16 col3\" >0</td>\n",
              "                        <td id=\"T_7e80217e_43a4_11eb_a58a_0242ac1c0002row16_col4\" class=\"data row16 col4\" >0</td>\n",
              "                        <td id=\"T_7e80217e_43a4_11eb_a58a_0242ac1c0002row16_col5\" class=\"data row16 col5\" >0</td>\n",
              "                        <td id=\"T_7e80217e_43a4_11eb_a58a_0242ac1c0002row16_col6\" class=\"data row16 col6\" >0</td>\n",
              "                        <td id=\"T_7e80217e_43a4_11eb_a58a_0242ac1c0002row16_col7\" class=\"data row16 col7\" >0</td>\n",
              "                        <td id=\"T_7e80217e_43a4_11eb_a58a_0242ac1c0002row16_col8\" class=\"data row16 col8\" >0</td>\n",
              "                        <td id=\"T_7e80217e_43a4_11eb_a58a_0242ac1c0002row16_col9\" class=\"data row16 col9\" >0</td>\n",
              "                        <td id=\"T_7e80217e_43a4_11eb_a58a_0242ac1c0002row16_col10\" class=\"data row16 col10\" >0</td>\n",
              "                        <td id=\"T_7e80217e_43a4_11eb_a58a_0242ac1c0002row16_col11\" class=\"data row16 col11\" >0</td>\n",
              "                        <td id=\"T_7e80217e_43a4_11eb_a58a_0242ac1c0002row16_col12\" class=\"data row16 col12\" >0</td>\n",
              "                        <td id=\"T_7e80217e_43a4_11eb_a58a_0242ac1c0002row16_col13\" class=\"data row16 col13\" >0</td>\n",
              "            </tr>\n",
              "            <tr>\n",
              "                        <th id=\"T_7e80217e_43a4_11eb_a58a_0242ac1c0002level0_row17\" class=\"row_heading level0 row17\" >17</th>\n",
              "                        <td id=\"T_7e80217e_43a4_11eb_a58a_0242ac1c0002row17_col0\" class=\"data row17 col0\" >0</td>\n",
              "                        <td id=\"T_7e80217e_43a4_11eb_a58a_0242ac1c0002row17_col1\" class=\"data row17 col1\" >0</td>\n",
              "                        <td id=\"T_7e80217e_43a4_11eb_a58a_0242ac1c0002row17_col2\" class=\"data row17 col2\" >0</td>\n",
              "                        <td id=\"T_7e80217e_43a4_11eb_a58a_0242ac1c0002row17_col3\" class=\"data row17 col3\" >0</td>\n",
              "                        <td id=\"T_7e80217e_43a4_11eb_a58a_0242ac1c0002row17_col4\" class=\"data row17 col4\" >0</td>\n",
              "                        <td id=\"T_7e80217e_43a4_11eb_a58a_0242ac1c0002row17_col5\" class=\"data row17 col5\" >0</td>\n",
              "                        <td id=\"T_7e80217e_43a4_11eb_a58a_0242ac1c0002row17_col6\" class=\"data row17 col6\" >0</td>\n",
              "                        <td id=\"T_7e80217e_43a4_11eb_a58a_0242ac1c0002row17_col7\" class=\"data row17 col7\" >0</td>\n",
              "                        <td id=\"T_7e80217e_43a4_11eb_a58a_0242ac1c0002row17_col8\" class=\"data row17 col8\" >0</td>\n",
              "                        <td id=\"T_7e80217e_43a4_11eb_a58a_0242ac1c0002row17_col9\" class=\"data row17 col9\" >0</td>\n",
              "                        <td id=\"T_7e80217e_43a4_11eb_a58a_0242ac1c0002row17_col10\" class=\"data row17 col10\" >0</td>\n",
              "                        <td id=\"T_7e80217e_43a4_11eb_a58a_0242ac1c0002row17_col11\" class=\"data row17 col11\" >0</td>\n",
              "                        <td id=\"T_7e80217e_43a4_11eb_a58a_0242ac1c0002row17_col12\" class=\"data row17 col12\" >0</td>\n",
              "                        <td id=\"T_7e80217e_43a4_11eb_a58a_0242ac1c0002row17_col13\" class=\"data row17 col13\" >0</td>\n",
              "            </tr>\n",
              "    </tbody></table>"
            ],
            "text/plain": [
              "<pandas.io.formats.style.Styler at 0x7fefe88a4f60>"
            ]
          },
          "metadata": {
            "tags": []
          },
          "execution_count": 15
        }
      ]
    },
    {
      "cell_type": "code",
      "metadata": {
        "colab": {
          "base_uri": "https://localhost:8080/"
        },
        "id": "FGstToxuTtn4",
        "outputId": "36f79344-2fb7-4fb2-b2aa-edb151d87171"
      },
      "source": [
        "threes"
      ],
      "execution_count": 16,
      "outputs": [
        {
          "output_type": "execute_result",
          "data": {
            "text/plain": [
              "(#6131) [Path('train/3/10.png'),Path('train/3/10000.png'),Path('train/3/10011.png'),Path('train/3/10031.png'),Path('train/3/10034.png'),Path('train/3/10042.png'),Path('train/3/10052.png'),Path('train/3/1007.png'),Path('train/3/10074.png'),Path('train/3/10091.png')...]"
            ]
          },
          "metadata": {
            "tags": []
          },
          "execution_count": 16
        }
      ]
    },
    {
      "cell_type": "code",
      "metadata": {
        "id": "Ekv9YOjMVaHA"
      },
      "source": [
        "three_tensors = [tensor(Image.open(o)) for o in threes]\r\n",
        "seven_tensors = [tensor(Image.open(o)) for o in sevens]\r\n"
      ],
      "execution_count": 17,
      "outputs": []
    },
    {
      "cell_type": "code",
      "metadata": {
        "colab": {
          "base_uri": "https://localhost:8080/",
          "height": 102
        },
        "id": "VZFxitNAWEzq",
        "outputId": "08763031-0726-4b8f-a261-4dc7749b2cfd"
      },
      "source": [
        "show_image(three_tensors[1])"
      ],
      "execution_count": 18,
      "outputs": [
        {
          "output_type": "execute_result",
          "data": {
            "text/plain": [
              "<matplotlib.axes._subplots.AxesSubplot at 0x7fefe87ea908>"
            ]
          },
          "metadata": {
            "tags": []
          },
          "execution_count": 18
        },
        {
          "output_type": "display_data",
          "data": {
            "image/png": "[encoded data removed]",
            "text/plain": [
              "<Figure size 72x72 with 1 Axes>"
            ]
          },
          "metadata": {
            "tags": [],
            "needs_background": "light"
          }
        }
      ]
    },
    {
      "cell_type": "code",
      "metadata": {
        "colab": {
          "base_uri": "https://localhost:8080/"
        },
        "id": "TNo7lG7wYybC",
        "outputId": "b13abd56-b443-4859-97be-7a090216a118"
      },
      "source": [
        "stacked_sevens = torch.stack(seven_tensors).float()/255\r\n",
        "stacked_threes = torch.stack(three_tensors).float()/255\r\n",
        "stacked_sevens.shape"
      ],
      "execution_count": 19,
      "outputs": [
        {
          "output_type": "execute_result",
          "data": {
            "text/plain": [
              "torch.Size([6265, 28, 28])"
            ]
          },
          "metadata": {
            "tags": []
          },
          "execution_count": 19
        }
      ]
    },
    {
      "cell_type": "code",
      "metadata": {
        "colab": {
          "base_uri": "https://localhost:8080/"
        },
        "id": "i9CdFDekgu7F",
        "outputId": "b0a579a2-7f08-4884-fd0e-d20a8830e0c5"
      },
      "source": [
        "stacked_sevens.ndim"
      ],
      "execution_count": 20,
      "outputs": [
        {
          "output_type": "execute_result",
          "data": {
            "text/plain": [
              "3"
            ]
          },
          "metadata": {
            "tags": []
          },
          "execution_count": 20
        }
      ]
    },
    {
      "cell_type": "code",
      "metadata": {
        "id": "t5h6u7xogx2x"
      },
      "source": [
        "mean7 = stacked_sevens.mean(0)\r\n",
        "mean3 = stacked_threes.mean(0)"
      ],
      "execution_count": 21,
      "outputs": []
    },
    {
      "cell_type": "code",
      "metadata": {
        "colab": {
          "base_uri": "https://localhost:8080/",
          "height": 170
        },
        "id": "sDnvSkyNhDoo",
        "outputId": "fecf84f4-1381-4360-8a46-a9dc4facb082"
      },
      "source": [
        "show_image(mean3)\r\n",
        "show_image(mean7)"
      ],
      "execution_count": 22,
      "outputs": [
        {
          "output_type": "execute_result",
          "data": {
            "text/plain": [
              "<matplotlib.axes._subplots.AxesSubplot at 0x7fefe8243fd0>"
            ]
          },
          "metadata": {
            "tags": []
          },
          "execution_count": 22
        },
        {
          "output_type": "display_data",
          "data": {
            "image/png": "[encoded data removed]",
            "text/plain": [
              "<Figure size 72x72 with 1 Axes>"
            ]
          },
          "metadata": {
            "tags": [],
            "needs_background": "light"
          }
        },
        {
          "output_type": "display_data",
          "data": {
            "image/png": "[encoded data removed]",
            "text/plain": [
              "<Figure size 72x72 with 1 Axes>"
            ]
          },
          "metadata": {
            "tags": [],
            "needs_background": "light"
          }
        }
      ]
    },
    {
      "cell_type": "code",
      "metadata": {
        "colab": {
          "base_uri": "https://localhost:8080/",
          "height": 102
        },
        "id": "hqmGFCq6iFDg",
        "outputId": "65e4a330-71f2-47d8-f191-b243d65e5781"
      },
      "source": [
        "a_3 = stacked_threes[1]\r\n",
        "show_image(a_3)"
      ],
      "execution_count": 23,
      "outputs": [
        {
          "output_type": "execute_result",
          "data": {
            "text/plain": [
              "<matplotlib.axes._subplots.AxesSubplot at 0x7fefe823a860>"
            ]
          },
          "metadata": {
            "tags": []
          },
          "execution_count": 23
        },
        {
          "output_type": "display_data",
          "data": {
            "image/png": "[encoded data removed]",
            "text/plain": [
              "<Figure size 72x72 with 1 Axes>"
            ]
          },
          "metadata": {
            "tags": [],
            "needs_background": "light"
          }
        }
      ]
    },
    {
      "cell_type": "code",
      "metadata": {
        "colab": {
          "base_uri": "https://localhost:8080/"
        },
        "id": "ONTepi83jMoh",
        "outputId": "78c8f9f9-ac7d-4252-e884-0010be2b30c7"
      },
      "source": [
        "dist_3_abs = (a_3-mean3).abs().mean()\r\n",
        "dist_3_sqr = ((a_3-mean3)**2).mean().sqrt()\r\n",
        "\r\n",
        "dist_3_abs,dist_3_sqr"
      ],
      "execution_count": 24,
      "outputs": [
        {
          "output_type": "execute_result",
          "data": {
            "text/plain": [
              "(tensor(0.1114), tensor(0.2021))"
            ]
          },
          "metadata": {
            "tags": []
          },
          "execution_count": 24
        }
      ]
    },
    {
      "cell_type": "code",
      "metadata": {
        "colab": {
          "base_uri": "https://localhost:8080/"
        },
        "id": "9F9waJM9kMDI",
        "outputId": "5d7f259c-3340-4a27-987b-b5d530ee60e4"
      },
      "source": [
        "dist_7_abs = (a_3-mean7).abs().mean()\r\n",
        "dist_7_sqr = ((a_3-mean7)**2).mean().sqrt()\r\n",
        "\r\n",
        "dist_7_abs,dist_7_sqr"
      ],
      "execution_count": 25,
      "outputs": [
        {
          "output_type": "execute_result",
          "data": {
            "text/plain": [
              "(tensor(0.1586), tensor(0.3021))"
            ]
          },
          "metadata": {
            "tags": []
          },
          "execution_count": 25
        }
      ]
    },
    {
      "cell_type": "markdown",
      "metadata": {
        "id": "bpVfqA6hkr75"
      },
      "source": [
        "Equivalent to Pytorch function\r\n",
        "But don't forget to take the root of mse => RMSE"
      ]
    },
    {
      "cell_type": "code",
      "metadata": {
        "colab": {
          "base_uri": "https://localhost:8080/"
        },
        "id": "nu__sa-HkY06",
        "outputId": "31d15d06-f701-4b5c-abef-cd7f8432e7a4"
      },
      "source": [
        "F.l1_loss(a_3.float(),mean7),F.mse_loss(a_3.float(),mean7).sqrt()"
      ],
      "execution_count": 26,
      "outputs": [
        {
          "output_type": "execute_result",
          "data": {
            "text/plain": [
              "(tensor(0.1586), tensor(0.3021))"
            ]
          },
          "metadata": {
            "tags": []
          },
          "execution_count": 26
        }
      ]
    },
    {
      "cell_type": "code",
      "metadata": {
        "colab": {
          "base_uri": "https://localhost:8080/"
        },
        "id": "_FxgeQnJk1B4",
        "outputId": "4d871a3c-c0a4-44b0-eed9-42f437ff09eb"
      },
      "source": [
        "x=tensor([[1,2,3],[4,5,6]])\r\n",
        "x[:,0]\r\n"
      ],
      "execution_count": 27,
      "outputs": [
        {
          "output_type": "execute_result",
          "data": {
            "text/plain": [
              "tensor([1, 4])"
            ]
          },
          "metadata": {
            "tags": []
          },
          "execution_count": 27
        }
      ]
    },
    {
      "cell_type": "code",
      "metadata": {
        "colab": {
          "base_uri": "https://localhost:8080/"
        },
        "id": "IAneuQ0doy_5",
        "outputId": "5f5c3cab-ad3d-4620-94ab-d66e920346de"
      },
      "source": [
        "(path/'valid'/'3').ls()"
      ],
      "execution_count": 28,
      "outputs": [
        {
          "output_type": "execute_result",
          "data": {
            "text/plain": [
              "(#1010) [Path('valid/3/8120.png'),Path('valid/3/2450.png'),Path('valid/3/6065.png'),Path('valid/3/3407.png'),Path('valid/3/9182.png'),Path('valid/3/1683.png'),Path('valid/3/8435.png'),Path('valid/3/8254.png'),Path('valid/3/3493.png'),Path('valid/3/5293.png')...]"
            ]
          },
          "metadata": {
            "tags": []
          },
          "execution_count": 28
        }
      ]
    },
    {
      "cell_type": "code",
      "metadata": {
        "colab": {
          "base_uri": "https://localhost:8080/"
        },
        "id": "kBVmoHsOo_FL",
        "outputId": "82256f59-0a9b-466d-ecd3-78e0556e99bf"
      },
      "source": [
        "val3 = torch.stack([tensor(Image.open(o)) for o in (path/'valid'/'3').ls()])\r\n",
        "val3 = val3.float()/255\r\n",
        "val7 = torch.stack([tensor(Image.open(o)) for o in (path/'valid'/'7').ls()])\r\n",
        "val7 = val7.float()/255\r\n",
        "val3.shape"
      ],
      "execution_count": 29,
      "outputs": [
        {
          "output_type": "execute_result",
          "data": {
            "text/plain": [
              "torch.Size([1010, 28, 28])"
            ]
          },
          "metadata": {
            "tags": []
          },
          "execution_count": 29
        }
      ]
    },
    {
      "cell_type": "code",
      "metadata": {
        "id": "StteWUdAqLgX"
      },
      "source": [
        "def is_3(x):\r\n",
        "  return F.mse_loss(x,mean3)<F.mse_loss(x,mean7)"
      ],
      "execution_count": 30,
      "outputs": []
    },
    {
      "cell_type": "code",
      "metadata": {
        "colab": {
          "base_uri": "https://localhost:8080/",
          "height": 1000
        },
        "id": "P14npXBiqcOA",
        "outputId": "c7d163ba-3790-454a-b2b8-62d905c4c397"
      },
      "source": [
        "for i in range(len(val3)):\r\n",
        "  if is_3(val3[i]) != True:\r\n",
        "    show_image(val3[i])\r\n",
        "print(\"finb\")"
      ],
      "execution_count": 31,
      "outputs": [
        {
          "output_type": "stream",
          "text": [
            "/usr/local/lib/python3.6/dist-packages/fastai/torch_core.py:60: RuntimeWarning: More than 20 figures have been opened. Figures created through the pyplot interface (`matplotlib.pyplot.figure`) are retained until explicitly closed and may consume too much memory. (To control this warning, see the rcParam `figure.max_open_warning`).\n",
            "  if ax is None: _,ax = plt.subplots(figsize=figsize)\n"
          ],
          "name": "stderr"
        },
        {
          "output_type": "stream",
          "text": [
            "finb\n"
          ],
          "name": "stdout"
        },
        {
          "output_type": "display_data",
          "data": {
            "image/png": "[encoded data removed]",
            "text/plain": [
              "<Figure size 72x72 with 1 Axes>"
            ]
          },
          "metadata": {
            "tags": [],
            "needs_background": "light"
          }
        },
        {
          "output_type": "display_data",
          "data": {
            "image/png": "[encoded data removed]",
            "text/plain": [
              "<Figure size 72x72 with 1 Axes>"
            ]
          },
          "metadata": {
            "tags": [],
            "needs_background": "light"
          }
        },
        {
          "output_type": "display_data",
          "data": {
            "image/png": "[encoded data removed]",
            "text/plain": [
              "<Figure size 72x72 with 1 Axes>"
            ]
          },
          "metadata": {
            "tags": [],
            "needs_background": "light"
          }
        },
        {
          "output_type": "display_data",
          "data": {
            "image/png": "[encoded data removed]",
            "text/plain": [
              "<Figure size 72x72 with 1 Axes>"
            ]
          },
          "metadata": {
            "tags": [],
            "needs_background": "light"
          }
        },
        {
          "output_type": "display_data",
          "data": {
            "image/png": "[encoded data removed]",
            "text/plain": [
              "<Figure size 72x72 with 1 Axes>"
            ]
          },
          "metadata": {
            "tags": [],
            "needs_background": "light"
          }
        },
        {
          "output_type": "display_data",
          "data": {
            "image/png": "[encoded data removed]",
            "text/plain": [
              "<Figure size 72x72 with 1 Axes>"
            ]
          },
          "metadata": {
            "tags": [],
            "needs_background": "light"
          }
        },
        {
          "output_type": "display_data",
          "data": {
            "image/png": "[encoded data removed]",
            "text/plain": [
              "<Figure size 72x72 with 1 Axes>"
            ]
          },
          "metadata": {
            "tags": [],
            "needs_background": "light"
          }
        },
        {
          "output_type": "display_data",
          "data": {
            "image/png": "[encoded data removed]",
            "text/plain": [
              "<Figure size 72x72 with 1 Axes>"
            ]
          },
          "metadata": {
            "tags": [],
            "needs_background": "light"
          }
        },
        {
          "output_type": "display_data",
          "data": {
            "image/png": "[encoded data removed]",
            "text/plain": [
              "<Figure size 72x72 with 1 Axes>"
            ]
          },
          "metadata": {
            "tags": [],
            "needs_background": "light"
          }
        },
        {
          "output_type": "display_data",
          "data": {
            "image/png": "[encoded data removed]",
            "text/plain": [
              "<Figure size 72x72 with 1 Axes>"
            ]
          },
          "metadata": {
            "tags": [],
            "needs_background": "light"
          }
        },
        {
          "output_type": "display_data",
          "data": {
            "image/png": "[encoded data removed]",
            "text/plain": [
              "<Figure size 72x72 with 1 Axes>"
            ]
          },
          "metadata": {
            "tags": [],
            "needs_background": "light"
          }
        },
        {
          "output_type": "display_data",
          "data": {
            "image/png": "[encoded data removed]",
            "text/plain": [
              "<Figure size 72x72 with 1 Axes>"
            ]
          },
          "metadata": {
            "tags": [],
            "needs_background": "light"
          }
        },
        {
          "output_type": "display_data",
          "data": {
            "image/png": "[encoded data removed]",
            "text/plain": [
              "<Figure size 72x72 with 1 Axes>"
            ]
          },
          "metadata": {
            "tags": [],
            "needs_background": "light"
          }
        },
        {
          "output_type": "display_data",
          "data": {
            "image/png": "[encoded data removed]",
            "text/plain": [
              "<Figure size 72x72 with 1 Axes>"
            ]
          },
          "metadata": {
            "tags": [],
            "needs_background": "light"
          }
        },
        {
          "output_type": "display_data",
          "data": {
            "image/png": "[encoded data removed]",
            "text/plain": [
              "<Figure size 72x72 with 1 Axes>"
            ]
          },
          "metadata": {
            "tags": [],
            "needs_background": "light"
          }
        },
        {
          "output_type": "display_data",
          "data": {
            "image/png": "[encoded data removed]",
            "text/plain": [
              "<Figure size 72x72 with 1 Axes>"
            ]
          },
          "metadata": {
            "tags": [],
            "needs_background": "light"
          }
        },
        {
          "output_type": "display_data",
          "data": {
            "image/png": "[encoded data removed]",
            "text/plain": [
              "<Figure size 72x72 with 1 Axes>"
            ]
          },
          "metadata": {
            "tags": [],
            "needs_background": "light"
          }
        },
        {
          "output_type": "display_data",
          "data": {
            "image/png": "[encoded data removed]",
            "text/plain": [
              "<Figure size 72x72 with 1 Axes>"
            ]
          },
          "metadata": {
            "tags": [],
            "needs_background": "light"
          }
        },
        {
          "output_type": "display_data",
          "data": {
            "image/png": "[encoded data removed]",
            "text/plain": [
              "<Figure size 72x72 with 1 Axes>"
            ]
          },
          "metadata": {
            "tags": [],
            "needs_background": "light"
          }
        },
        {
          "output_type": "display_data",
          "data": {
            "image/png": "[encoded data removed]",
            "text/plain": [
              "<Figure size 72x72 with 1 Axes>"
            ]
          },
          "metadata": {
            "tags": [],
            "needs_background": "light"
          }
        },
        {
          "output_type": "display_data",
          "data": {
            "image/png": "[encoded data removed]",
            "text/plain": [
              "<Figure size 72x72 with 1 Axes>"
            ]
          },
          "metadata": {
            "tags": [],
            "needs_background": "light"
          }
        },
        {
          "output_type": "display_data",
          "data": {
            "image/png": "[encoded data removed]",
            "text/plain": [
              "<Figure size 72x72 with 1 Axes>"
            ]
          },
          "metadata": {
            "tags": [],
            "needs_background": "light"
          }
        },
        {
          "output_type": "display_data",
          "data": {
            "image/png": "[encoded data removed]",
            "text/plain": [
              "<Figure size 72x72 with 1 Axes>"
            ]
          },
          "metadata": {
            "tags": [],
            "needs_background": "light"
          }
        },
        {
          "output_type": "display_data",
          "data": {
            "image/png": "[encoded data removed]",
            "text/plain": [
              "<Figure size 72x72 with 1 Axes>"
            ]
          },
          "metadata": {
            "tags": [],
            "needs_background": "light"
          }
        },
        {
          "output_type": "display_data",
          "data": {
            "image/png": "[encoded data removed]",
            "text/plain": [
              "<Figure size 72x72 with 1 Axes>"
            ]
          },
          "metadata": {
            "tags": [],
            "needs_background": "light"
          }
        },
        {
          "output_type": "display_data",
          "data": {
            "image/png": "[encoded data removed]",
            "text/plain": [
              "<Figure size 72x72 with 1 Axes>"
            ]
          },
          "metadata": {
            "tags": [],
            "needs_background": "light"
          }
        },
        {
          "output_type": "display_data",
          "data": {
            "image/png": "[encoded data removed]",
            "text/plain": [
              "<Figure size 72x72 with 1 Axes>"
            ]
          },
          "metadata": {
            "tags": [],
            "needs_background": "light"
          }
        },
        {
          "output_type": "display_data",
          "data": {
            "image/png": "[encoded data removed]",
            "text/plain": [
              "<Figure size 72x72 with 1 Axes>"
            ]
          },
          "metadata": {
            "tags": [],
            "needs_background": "light"
          }
        },
        {
          "output_type": "display_data",
          "data": {
            "image/png": "[encoded data removed]",
            "text/plain": [
              "<Figure size 72x72 with 1 Axes>"
            ]
          },
          "metadata": {
            "tags": [],
            "needs_background": "light"
          }
        },
        {
          "output_type": "display_data",
          "data": {
            "image/png": "[encoded data removed]",
            "text/plain": [
              "<Figure size 72x72 with 1 Axes>"
            ]
          },
          "metadata": {
            "tags": [],
            "needs_background": "light"
          }
        },
        {
          "output_type": "display_data",
          "data": {
            "image/png": "[encoded data removed]",
            "text/plain": [
              "<Figure size 72x72 with 1 Axes>"
            ]
          },
          "metadata": {
            "tags": [],
            "needs_background": "light"
          }
        },
        {
          "output_type": "display_data",
          "data": {
            "image/png": "[encoded data removed]",
            "text/plain": [
              "<Figure size 72x72 with 1 Axes>"
            ]
          },
          "metadata": {
            "tags": [],
            "needs_background": "light"
          }
        },
        {
          "output_type": "display_data",
          "data": {
            "image/png": "[encoded data removed]",
            "text/plain": [
              "<Figure size 72x72 with 1 Axes>"
            ]
          },
          "metadata": {
            "tags": [],
            "needs_background": "light"
          }
        },
        {
          "output_type": "display_data",
          "data": {
            "image/png": "[encoded data removed]",
            "text/plain": [
              "<Figure size 72x72 with 1 Axes>"
            ]
          },
          "metadata": {
            "tags": [],
            "needs_background": "light"
          }
        },
        {
          "output_type": "display_data",
          "data": {
            "image/png": "[encoded data removed]",
            "text/plain": [
              "<Figure size 72x72 with 1 Axes>"
            ]
          },
          "metadata": {
            "tags": [],
            "needs_background": "light"
          }
        },
        {
          "output_type": "display_data",
          "data": {
            "image/png": "[encoded data removed]",
            "text/plain": [
              "<Figure size 72x72 with 1 Axes>"
            ]
          },
          "metadata": {
            "tags": [],
            "needs_background": "light"
          }
        },
        {
          "output_type": "display_data",
          "data": {
            "image/png": "[encoded data removed]",
            "text/plain": [
              "<Figure size 72x72 with 1 Axes>"
            ]
          },
          "metadata": {
            "tags": [],
            "needs_background": "light"
          }
        },
        {
          "output_type": "display_data",
          "data": {
            "image/png": "[encoded data removed]",
            "text/plain": [
              "<Figure size 72x72 with 1 Axes>"
            ]
          },
          "metadata": {
            "tags": [],
            "needs_background": "light"
          }
        },
        {
          "output_type": "display_data",
          "data": {
            "image/png": "[encoded data removed]",
            "text/plain": [
              "<Figure size 72x72 with 1 Axes>"
            ]
          },
          "metadata": {
            "tags": [],
            "needs_background": "light"
          }
        },
        {
          "output_type": "display_data",
          "data": {
            "image/png": "[encoded data removed]",
            "text/plain": [
              "<Figure size 72x72 with 1 Axes>"
            ]
          },
          "metadata": {
            "tags": [],
            "needs_background": "light"
          }
        },
        {
          "output_type": "display_data",
          "data": {
            "image/png": "[encoded data removed]",
            "text/plain": [
              "<Figure size 72x72 with 1 Axes>"
            ]
          },
          "metadata": {
            "tags": [],
            "needs_background": "light"
          }
        },
        {
          "output_type": "display_data",
          "data": {
            "image/png": "[encoded data removed]",
            "text/plain": [
              "<Figure size 72x72 with 1 Axes>"
            ]
          },
          "metadata": {
            "tags": [],
            "needs_background": "light"
          }
        }
      ]
    },
    {
      "cell_type": "code",
      "metadata": {
        "colab": {
          "base_uri": "https://localhost:8080/"
        },
        "id": "aXkKq-78rEF-",
        "outputId": "63eacdaa-96f5-41a3-ab8c-b151135ade7d"
      },
      "source": [
        "def mnist_distance(a,b):\r\n",
        "  return (a-b).abs().mean((-1,-2))\r\n",
        "mnist_distance(a_3,mean3)"
      ],
      "execution_count": 32,
      "outputs": [
        {
          "output_type": "execute_result",
          "data": {
            "text/plain": [
              "tensor(0.1114)"
            ]
          },
          "metadata": {
            "tags": []
          },
          "execution_count": 32
        }
      ]
    },
    {
      "cell_type": "code",
      "metadata": {
        "colab": {
          "base_uri": "https://localhost:8080/"
        },
        "id": "IS0aWTY1sKZO",
        "outputId": "a62f904a-58d5-4f8b-a218-d73c0296fa05"
      },
      "source": [
        "mnist_distance(val3,mean3)"
      ],
      "execution_count": 33,
      "outputs": [
        {
          "output_type": "execute_result",
          "data": {
            "text/plain": [
              "tensor([0.1314, 0.1261, 0.1778,  ..., 0.1208, 0.1247, 0.1369])"
            ]
          },
          "metadata": {
            "tags": []
          },
          "execution_count": 33
        }
      ]
    },
    {
      "cell_type": "code",
      "metadata": {
        "id": "x3gYRKOMCJMJ"
      },
      "source": [
        "def is_3(x):\r\n",
        "  return mnist_distance(x,mean3) < mnist_distance(x,mean7)"
      ],
      "execution_count": 34,
      "outputs": []
    },
    {
      "cell_type": "code",
      "metadata": {
        "colab": {
          "base_uri": "https://localhost:8080/"
        },
        "id": "es9CYDHoCUJY",
        "outputId": "ec32460e-2196-4ec1-f81f-60057cc5ade8"
      },
      "source": [
        "is_3(val3)"
      ],
      "execution_count": 36,
      "outputs": [
        {
          "output_type": "execute_result",
          "data": {
            "text/plain": [
              "tensor([ True,  True,  True,  ...,  True,  True, False])"
            ]
          },
          "metadata": {
            "tags": []
          },
          "execution_count": 36
        }
      ]
    },
    {
      "cell_type": "markdown",
      "metadata": {
        "id": "KqFUIPMRColn"
      },
      "source": [
        "Accuracy of our model"
      ]
    },
    {
      "cell_type": "code",
      "metadata": {
        "colab": {
          "base_uri": "https://localhost:8080/"
        },
        "id": "6tHGb6_MCqbj",
        "outputId": "e74d9101-2d10-4114-8dce-bf1d18f8dd63"
      },
      "source": [
        "accuracy_3 = is_3(val3).float().mean()\r\n",
        "accuracy_7 = 1 - is_3(val7).float().mean()\r\n",
        "\r\n",
        "accuracy_3,accuracy_7, (accuracy_3+accuracy_7)/2"
      ],
      "execution_count": 40,
      "outputs": [
        {
          "output_type": "execute_result",
          "data": {
            "text/plain": [
              "(tensor(0.9168), tensor(0.9854), tensor(0.9511))"
            ]
          },
          "metadata": {
            "tags": []
          },
          "execution_count": 40
        }
      ]
    },
    {
      "cell_type": "markdown",
      "metadata": {
        "id": "T1n9WDdtDQ1u"
      },
      "source": [
        "**Stochastic Descent Gradient**"
      ]
    },
    {
      "cell_type": "code",
      "metadata": {
        "id": "Ru7TGjilDP9x"
      },
      "source": [
        "xt = tensor(3.).requires_grad_()"
      ],
      "execution_count": 42,
      "outputs": []
    },
    {
      "cell_type": "code",
      "metadata": {
        "colab": {
          "base_uri": "https://localhost:8080/"
        },
        "id": "dttgjEg-HA6i",
        "outputId": "3938674f-5461-42a0-bd91-cb79d54661ef"
      },
      "source": [
        "xt"
      ],
      "execution_count": 44,
      "outputs": [
        {
          "output_type": "execute_result",
          "data": {
            "text/plain": [
              "tensor(3., requires_grad=True)"
            ]
          },
          "metadata": {
            "tags": []
          },
          "execution_count": 44
        }
      ]
    },
    {
      "cell_type": "code",
      "metadata": {
        "id": "gIWTJs4oHgMg"
      },
      "source": [
        "def f(x): return x**2"
      ],
      "execution_count": 45,
      "outputs": []
    },
    {
      "cell_type": "code",
      "metadata": {
        "colab": {
          "base_uri": "https://localhost:8080/"
        },
        "id": "OBYCvSNvHigm",
        "outputId": "62150570-d793-40cd-d970-e1e861fa1a99"
      },
      "source": [
        "yt=f(xt)\r\n",
        "yt"
      ],
      "execution_count": 47,
      "outputs": [
        {
          "output_type": "execute_result",
          "data": {
            "text/plain": [
              "tensor(9., grad_fn=<PowBackward0>)"
            ]
          },
          "metadata": {
            "tags": []
          },
          "execution_count": 47
        }
      ]
    },
    {
      "cell_type": "code",
      "metadata": {
        "id": "S16HdHYtHlNc"
      },
      "source": [
        "yt.backward()"
      ],
      "execution_count": 48,
      "outputs": []
    },
    {
      "cell_type": "code",
      "metadata": {
        "colab": {
          "base_uri": "https://localhost:8080/"
        },
        "id": "lC3062VYHoBe",
        "outputId": "7809185e-8e01-4be5-b1c7-bd514b6502bf"
      },
      "source": [
        "tensor([1,2,3]).sum()"
      ],
      "execution_count": 53,
      "outputs": [
        {
          "output_type": "execute_result",
          "data": {
            "text/plain": [
              "tensor(6)"
            ]
          },
          "metadata": {
            "tags": []
          },
          "execution_count": 53
        }
      ]
    },
    {
      "cell_type": "code",
      "metadata": {
        "colab": {
          "base_uri": "https://localhost:8080/"
        },
        "id": "j_W4l2DrJCJz",
        "outputId": "28176da1-c40a-46ac-a542-b7d2e6b4ade3"
      },
      "source": [
        "torch.randn(3)"
      ],
      "execution_count": 60,
      "outputs": [
        {
          "output_type": "execute_result",
          "data": {
            "text/plain": [
              "tensor([-0.7658, -0.7506,  1.3525])"
            ]
          },
          "metadata": {
            "tags": []
          },
          "execution_count": 60
        }
      ]
    },
    {
      "cell_type": "code",
      "metadata": {
        "id": "I1u0ChTLNKLj"
      },
      "source": [
        "train_x = torch.cat([stacked_threes,stacked_sevens]).view(-1,28*28)"
      ],
      "execution_count": 61,
      "outputs": []
    },
    {
      "cell_type": "code",
      "metadata": {
        "colab": {
          "base_uri": "https://localhost:8080/"
        },
        "id": "EM3heB6AO2Qb",
        "outputId": "6bf6ae64-2169-4cff-f929-7349579b7317"
      },
      "source": [
        "train_y = tensor([1]*len(threes) + [0]*len(sevens)).unsqueeze(1)\r\n",
        "train_x.shape,train_y.shape"
      ],
      "execution_count": 68,
      "outputs": [
        {
          "output_type": "execute_result",
          "data": {
            "text/plain": [
              "(torch.Size([12396, 784]), torch.Size([12396, 1]))"
            ]
          },
          "metadata": {
            "tags": []
          },
          "execution_count": 68
        }
      ]
    },
    {
      "cell_type": "code",
      "metadata": {
        "colab": {
          "base_uri": "https://localhost:8080/"
        },
        "id": "icf5VZriQ7_2",
        "outputId": "08d65ea6-4589-4442-d215-57b5f70974b0"
      },
      "source": [
        "dset = list(zip(train_x,train_y))\r\n",
        "x,y = dset[0]\r\n",
        "x.shape,y"
      ],
      "execution_count": 74,
      "outputs": [
        {
          "output_type": "execute_result",
          "data": {
            "text/plain": [
              "(torch.Size([784]), tensor([1]))"
            ]
          },
          "metadata": {
            "tags": []
          },
          "execution_count": 74
        }
      ]
    },
    {
      "cell_type": "code",
      "metadata": {
        "id": "jtR-EbcLRv4X"
      },
      "source": [
        "valid_x = torch.cat([val3,val7]).view(-1,28*28)\r\n",
        "valid_y = tensor([1]*len(val3)+[0]*len(val7)).unsqueeze(1)\r\n",
        "valid_dset = list(zip(valid_x,valid_y))"
      ],
      "execution_count": 76,
      "outputs": []
    },
    {
      "cell_type": "code",
      "metadata": {
        "id": "anIOTXrQSS3S"
      },
      "source": [
        "def init_params(size,std=1.0):\r\n",
        "  return (torch.randn(size)*std).requires_grad_()"
      ],
      "execution_count": 77,
      "outputs": []
    },
    {
      "cell_type": "code",
      "metadata": {
        "id": "3JoR9oOsS0C2"
      },
      "source": [
        "weights = init_params((28*28,1))"
      ],
      "execution_count": 90,
      "outputs": []
    },
    {
      "cell_type": "code",
      "metadata": {
        "id": "kIDX101HTOwe"
      },
      "source": [
        "bias = init_params(1)"
      ],
      "execution_count": 80,
      "outputs": []
    },
    {
      "cell_type": "code",
      "metadata": {
        "colab": {
          "base_uri": "https://localhost:8080/"
        },
        "id": "H_G7AH6ETRsJ",
        "outputId": "8d7822da-b2fc-445f-834b-0d6ed11be17e"
      },
      "source": [
        "(train_x[0]*weights.T).sum()+bias"
      ],
      "execution_count": 81,
      "outputs": [
        {
          "output_type": "execute_result",
          "data": {
            "text/plain": [
              "tensor([-13.2578], grad_fn=<AddBackward0>)"
            ]
          },
          "metadata": {
            "tags": []
          },
          "execution_count": 81
        }
      ]
    },
    {
      "cell_type": "code",
      "metadata": {
        "colab": {
          "base_uri": "https://localhost:8080/"
        },
        "id": "Twrd6cYjT81K",
        "outputId": "7de2f494-c1ba-4a38-9d8c-776f3b4b0dbb"
      },
      "source": [
        "def linear1(xb):\r\n",
        "  return xb@weights + bias #@ is for matrix multiplication\r\n",
        "preds=linear1(train_x)\r\n",
        "preds"
      ],
      "execution_count": 91,
      "outputs": [
        {
          "output_type": "execute_result",
          "data": {
            "text/plain": [
              "tensor([[  0.6813],\n",
              "        [  6.5813],\n",
              "        [ 14.2738],\n",
              "        ...,\n",
              "        [-12.7016],\n",
              "        [  0.4718],\n",
              "        [  1.2406]], grad_fn=<AddBackward0>)"
            ]
          },
          "metadata": {
            "tags": []
          },
          "execution_count": 91
        }
      ]
    },
    {
      "cell_type": "code",
      "metadata": {
        "colab": {
          "base_uri": "https://localhost:8080/"
        },
        "id": "Rn9UTGkCUSdK",
        "outputId": "76062481-9e59-4433-e57e-e32b441ba82a"
      },
      "source": [
        "corrects = (preds>0.0).float()==train_y\r\n",
        "corrects.float().mean(0).item()"
      ],
      "execution_count": 92,
      "outputs": [
        {
          "output_type": "execute_result",
          "data": {
            "text/plain": [
              "0.6233462691307068"
            ]
          },
          "metadata": {
            "tags": []
          },
          "execution_count": 92
        }
      ]
    },
    {
      "cell_type": "code",
      "metadata": {
        "colab": {
          "base_uri": "https://localhost:8080/"
        },
        "id": "ZWRZ-8KZWYd-",
        "outputId": "262507ba-90de-4b82-c683-c8d0e71484b8"
      },
      "source": [
        "help(torch.where)"
      ],
      "execution_count": 95,
      "outputs": [
        {
          "output_type": "stream",
          "text": [
            "Help on built-in function where:\n",
            "\n",
            "where(...)\n",
            "    where(condition, x, y) -> Tensor\n",
            "    \n",
            "    Return a tensor of elements selected from either :attr:`x` or :attr:`y`, depending on :attr:`condition`.\n",
            "    \n",
            "    The operation is defined as:\n",
            "    \n",
            "    .. math::\n",
            "        \\text{out}_i = \\begin{cases}\n",
            "            \\text{x}_i & \\text{if } \\text{condition}_i \\\\\n",
            "            \\text{y}_i & \\text{otherwise} \\\\\n",
            "        \\end{cases}\n",
            "    \n",
            "    .. note::\n",
            "        The tensors :attr:`condition`, :attr:`x`, :attr:`y` must be :ref:`broadcastable <broadcasting-semantics>`.\n",
            "    \n",
            "    .. note::\n",
            "        Currently valid scalar and tensor combination are\n",
            "        1. Scalar of floating dtype and torch.double\n",
            "        2. Scalar of integral dtype and torch.long\n",
            "        3. Scalar of complex dtype and torch.complex128\n",
            "    \n",
            "    Arguments:\n",
            "        condition (BoolTensor): When True (nonzero), yield x, otherwise yield y\n",
            "        x (Tensor or Scalar): value (if :attr:x is a scalar) or values selected at indices\n",
            "                              where :attr:`condition` is ``True``\n",
            "        y (Tensor or Scalar): value (if :attr:x is a scalar) or values selected at indices\n",
            "                              where :attr:`condition` is ``False``\n",
            "    \n",
            "    Returns:\n",
            "        Tensor: A tensor of shape equal to the broadcasted shape of :attr:`condition`, :attr:`x`, :attr:`y`\n",
            "    \n",
            "    Example::\n",
            "    \n",
            "        >>> x = torch.randn(3, 2)\n",
            "        >>> y = torch.ones(3, 2)\n",
            "        >>> x\n",
            "        tensor([[-0.4620,  0.3139],\n",
            "                [ 0.3898, -0.7197],\n",
            "                [ 0.0478, -0.1657]])\n",
            "        >>> torch.where(x > 0, x, y)\n",
            "        tensor([[ 1.0000,  0.3139],\n",
            "                [ 0.3898,  1.0000],\n",
            "                [ 0.0478,  1.0000]])\n",
            "        >>> x = torch.randn(2, 2, dtype=torch.double)\n",
            "        >>> x\n",
            "        tensor([[ 1.0779,  0.0383],\n",
            "                [-0.8785, -1.1089]], dtype=torch.float64)\n",
            "        >>> torch.where(x > 0, x, 0.)\n",
            "        tensor([[1.0779, 0.0383],\n",
            "                [0.0000, 0.0000]], dtype=torch.float64)\n",
            "    \n",
            "    .. function:: where(condition) -> tuple of LongTensor\n",
            "    \n",
            "    ``torch.where(condition)`` is identical to\n",
            "    ``torch.nonzero(condition, as_tuple=True)``.\n",
            "    \n",
            "    .. note::\n",
            "        See also :func:`torch.nonzero`.\n",
            "\n"
          ],
          "name": "stdout"
        }
      ]
    },
    {
      "cell_type": "code",
      "metadata": {
        "id": "FwRqLz9VazcD"
      },
      "source": [
        "def sigmoid(x):\r\n",
        "  return 1/(1+torch.exp(-x))"
      ],
      "execution_count": 96,
      "outputs": []
    },
    {
      "cell_type": "code",
      "metadata": {
        "id": "MxtnKokYbRBg"
      },
      "source": [
        "def mnist_loss(predictions, targets):\r\n",
        "  predictions = predictions.sigmoid()\r\n",
        "  return torch.where(targets==1, 1-predictions, predictions).mean()"
      ],
      "execution_count": 97,
      "outputs": []
    },
    {
      "cell_type": "code",
      "metadata": {
        "colab": {
          "base_uri": "https://localhost:8080/"
        },
        "id": "9FxNA9cLbsd4",
        "outputId": "d6a2f9ad-939b-460f-90bf-656485c42ce1"
      },
      "source": [
        "coll = range(15)\r\n",
        "dl = DataLoader(coll, batch_size=4, shuffle=True)\r\n",
        "list(dl)"
      ],
      "execution_count": 105,
      "outputs": [
        {
          "output_type": "execute_result",
          "data": {
            "text/plain": [
              "[tensor([ 3,  7,  6, 13]),\n",
              " tensor([11,  5,  0,  1]),\n",
              " tensor([ 4, 10, 12, 14]),\n",
              " tensor([8, 9, 2])]"
            ]
          },
          "metadata": {
            "tags": []
          },
          "execution_count": 105
        }
      ]
    },
    {
      "cell_type": "markdown",
      "metadata": {
        "id": "cFtsRwviduY3"
      },
      "source": [
        "Summary"
      ]
    },
    {
      "cell_type": "code",
      "metadata": {
        "id": "z4-MNZ3Wdsp2"
      },
      "source": [
        "weights = init_params((28*28,1))\r\n",
        "bias = init_params(1)"
      ],
      "execution_count": 106,
      "outputs": []
    },
    {
      "cell_type": "code",
      "metadata": {
        "colab": {
          "base_uri": "https://localhost:8080/"
        },
        "id": "rfclhUmud6SC",
        "outputId": "56b4b0ab-3982-4f74-a1b1-f901a4b61094"
      },
      "source": [
        "dl = DataLoader(dset, batch_size=256)\r\n",
        "xb,yb = first(dl)\r\n",
        "xb.shape,yb.shape"
      ],
      "execution_count": 116,
      "outputs": [
        {
          "output_type": "execute_result",
          "data": {
            "text/plain": [
              "(torch.Size([256, 784]), torch.Size([256, 1]))"
            ]
          },
          "metadata": {
            "tags": []
          },
          "execution_count": 116
        }
      ]
    },
    {
      "cell_type": "code",
      "metadata": {
        "colab": {
          "base_uri": "https://localhost:8080/"
        },
        "id": "TXUFYuXMeQt2",
        "outputId": "2ed0c651-5539-4ccf-8743-96df9a7da28a"
      },
      "source": [
        "help(first)"
      ],
      "execution_count": 115,
      "outputs": [
        {
          "output_type": "stream",
          "text": [
            "Help on function first in module fastcore.basics:\n",
            "\n",
            "first(x, f=None, negate=False, **kwargs)\n",
            "    First element of `x`, optionally filtered by `f`, or None if missing\n",
            "\n"
          ],
          "name": "stdout"
        }
      ]
    },
    {
      "cell_type": "code",
      "metadata": {
        "id": "uK-yLxqxeiF-"
      },
      "source": [
        "valid_dl = DataLoader(valid_dset, batch_size=256)"
      ],
      "execution_count": 117,
      "outputs": []
    },
    {
      "cell_type": "code",
      "metadata": {
        "colab": {
          "base_uri": "https://localhost:8080/"
        },
        "id": "elOzB7jPeqhs",
        "outputId": "d78b1576-a8d4-4086-a6d4-92ffb7dbd80f"
      },
      "source": [
        "batch = train_x[:4]\r\n",
        "batch.shape"
      ],
      "execution_count": 118,
      "outputs": [
        {
          "output_type": "execute_result",
          "data": {
            "text/plain": [
              "torch.Size([4, 784])"
            ]
          },
          "metadata": {
            "tags": []
          },
          "execution_count": 118
        }
      ]
    },
    {
      "cell_type": "code",
      "metadata": {
        "colab": {
          "base_uri": "https://localhost:8080/"
        },
        "id": "PJaXbLxoeyYq",
        "outputId": "90e41edc-cbbf-4cc1-90ed-d21368f7d4a0"
      },
      "source": [
        "preds = linear1(batch)\r\n",
        "preds"
      ],
      "execution_count": 119,
      "outputs": [
        {
          "output_type": "execute_result",
          "data": {
            "text/plain": [
              "tensor([[-6.6002],\n",
              "        [-3.1368],\n",
              "        [-2.7656],\n",
              "        [ 7.1027]], grad_fn=<AddBackward0>)"
            ]
          },
          "metadata": {
            "tags": []
          },
          "execution_count": 119
        }
      ]
    },
    {
      "cell_type": "code",
      "metadata": {
        "id": "0MSiAkmqe2pI"
      },
      "source": [
        "mnist_loss??"
      ],
      "execution_count": 123,
      "outputs": []
    },
    {
      "cell_type": "code",
      "metadata": {
        "colab": {
          "base_uri": "https://localhost:8080/"
        },
        "id": "eoOSl1yofJg8",
        "outputId": "cc1d8568-0b19-4eb5-e3af-0975977c4e12"
      },
      "source": [
        "loss = mnist_loss(preds,train_y[:4])\r\n",
        "loss.item()"
      ],
      "execution_count": 127,
      "outputs": [
        {
          "output_type": "execute_result",
          "data": {
            "text/plain": [
              "0.7246604561805725"
            ]
          },
          "metadata": {
            "tags": []
          },
          "execution_count": 127
        }
      ]
    },
    {
      "cell_type": "code",
      "metadata": {
        "id": "TJ25fFgMfa3v"
      },
      "source": [
        "loss.backward()"
      ],
      "execution_count": 128,
      "outputs": []
    },
    {
      "cell_type": "code",
      "metadata": {
        "colab": {
          "base_uri": "https://localhost:8080/"
        },
        "id": "4XsVtnvIfdUG",
        "outputId": "f79e6439-d8bb-49cb-da61-e6e46a4a9caa"
      },
      "source": [
        "weights.grad.shape,weights.grad.mean(),bias.grad"
      ],
      "execution_count": 129,
      "outputs": [
        {
          "output_type": "execute_result",
          "data": {
            "text/plain": [
              "(torch.Size([784, 1]), tensor(-0.0035), tensor([-0.0244]))"
            ]
          },
          "metadata": {
            "tags": []
          },
          "execution_count": 129
        }
      ]
    },
    {
      "cell_type": "code",
      "metadata": {
        "id": "to3q6Jr-fuZ6"
      },
      "source": [
        "def calc_grad(xb,yb,model):\r\n",
        "  preds = model(xb)\r\n",
        "  loss = mnist_loss(preds,yb)\r\n",
        "  loss.backward()"
      ],
      "execution_count": 130,
      "outputs": []
    },
    {
      "cell_type": "code",
      "metadata": {
        "colab": {
          "base_uri": "https://localhost:8080/"
        },
        "id": "1lN_TwJhgQQC",
        "outputId": "831e65f9-aa88-4cce-a6d2-8bdaf4929360"
      },
      "source": [
        "weights.grad.zero_()"
      ],
      "execution_count": 135,
      "outputs": [
        {
          "output_type": "execute_result",
          "data": {
            "text/plain": [
              "tensor([[0.],\n",
              "        [0.],\n",
              "        [0.],\n",
              "        [0.],\n",
              "        [0.],\n",
              "        [0.],\n",
              "        [0.],\n",
              "        [0.],\n",
              "        [0.],\n",
              "        [0.],\n",
              "        [0.],\n",
              "        [0.],\n",
              "        [0.],\n",
              "        [0.],\n",
              "        [0.],\n",
              "        [0.],\n",
              "        [0.],\n",
              "        [0.],\n",
              "        [0.],\n",
              "        [0.],\n",
              "        [0.],\n",
              "        [0.],\n",
              "        [0.],\n",
              "        [0.],\n",
              "        [0.],\n",
              "        [0.],\n",
              "        [0.],\n",
              "        [0.],\n",
              "        [0.],\n",
              "        [0.],\n",
              "        [0.],\n",
              "        [0.],\n",
              "        [0.],\n",
              "        [0.],\n",
              "        [0.],\n",
              "        [0.],\n",
              "        [0.],\n",
              "        [0.],\n",
              "        [0.],\n",
              "        [0.],\n",
              "        [0.],\n",
              "        [0.],\n",
              "        [0.],\n",
              "        [0.],\n",
              "        [0.],\n",
              "        [0.],\n",
              "        [0.],\n",
              "        [0.],\n",
              "        [0.],\n",
              "        [0.],\n",
              "        [0.],\n",
              "        [0.],\n",
              "        [0.],\n",
              "        [0.],\n",
              "        [0.],\n",
              "        [0.],\n",
              "        [0.],\n",
              "        [0.],\n",
              "        [0.],\n",
              "        [0.],\n",
              "        [0.],\n",
              "        [0.],\n",
              "        [0.],\n",
              "        [0.],\n",
              "        [0.],\n",
              "        [0.],\n",
              "        [0.],\n",
              "        [0.],\n",
              "        [0.],\n",
              "        [0.],\n",
              "        [0.],\n",
              "        [0.],\n",
              "        [0.],\n",
              "        [0.],\n",
              "        [0.],\n",
              "        [0.],\n",
              "        [0.],\n",
              "        [0.],\n",
              "        [0.],\n",
              "        [0.],\n",
              "        [0.],\n",
              "        [0.],\n",
              "        [0.],\n",
              "        [0.],\n",
              "        [0.],\n",
              "        [0.],\n",
              "        [0.],\n",
              "        [0.],\n",
              "        [0.],\n",
              "        [0.],\n",
              "        [0.],\n",
              "        [0.],\n",
              "        [0.],\n",
              "        [0.],\n",
              "        [0.],\n",
              "        [0.],\n",
              "        [0.],\n",
              "        [0.],\n",
              "        [0.],\n",
              "        [0.],\n",
              "        [0.],\n",
              "        [0.],\n",
              "        [0.],\n",
              "        [0.],\n",
              "        [0.],\n",
              "        [0.],\n",
              "        [0.],\n",
              "        [0.],\n",
              "        [0.],\n",
              "        [0.],\n",
              "        [0.],\n",
              "        [0.],\n",
              "        [0.],\n",
              "        [0.],\n",
              "        [0.],\n",
              "        [0.],\n",
              "        [0.],\n",
              "        [0.],\n",
              "        [0.],\n",
              "        [0.],\n",
              "        [0.],\n",
              "        [0.],\n",
              "        [0.],\n",
              "        [0.],\n",
              "        [0.],\n",
              "        [0.],\n",
              "        [0.],\n",
              "        [0.],\n",
              "        [0.],\n",
              "        [0.],\n",
              "        [0.],\n",
              "        [0.],\n",
              "        [0.],\n",
              "        [0.],\n",
              "        [0.],\n",
              "        [0.],\n",
              "        [0.],\n",
              "        [0.],\n",
              "        [0.],\n",
              "        [0.],\n",
              "        [0.],\n",
              "        [0.],\n",
              "        [0.],\n",
              "        [0.],\n",
              "        [0.],\n",
              "        [0.],\n",
              "        [0.],\n",
              "        [0.],\n",
              "        [0.],\n",
              "        [0.],\n",
              "        [0.],\n",
              "        [0.],\n",
              "        [0.],\n",
              "        [0.],\n",
              "        [0.],\n",
              "        [0.],\n",
              "        [0.],\n",
              "        [0.],\n",
              "        [0.],\n",
              "        [0.],\n",
              "        [0.],\n",
              "        [0.],\n",
              "        [0.],\n",
              "        [0.],\n",
              "        [0.],\n",
              "        [0.],\n",
              "        [0.],\n",
              "        [0.],\n",
              "        [0.],\n",
              "        [0.],\n",
              "        [0.],\n",
              "        [0.],\n",
              "        [0.],\n",
              "        [0.],\n",
              "        [0.],\n",
              "        [0.],\n",
              "        [0.],\n",
              "        [0.],\n",
              "        [0.],\n",
              "        [0.],\n",
              "        [0.],\n",
              "        [0.],\n",
              "        [0.],\n",
              "        [0.],\n",
              "        [0.],\n",
              "        [0.],\n",
              "        [0.],\n",
              "        [0.],\n",
              "        [0.],\n",
              "        [0.],\n",
              "        [0.],\n",
              "        [0.],\n",
              "        [0.],\n",
              "        [0.],\n",
              "        [0.],\n",
              "        [0.],\n",
              "        [0.],\n",
              "        [0.],\n",
              "        [0.],\n",
              "        [0.],\n",
              "        [0.],\n",
              "        [0.],\n",
              "        [0.],\n",
              "        [0.],\n",
              "        [0.],\n",
              "        [0.],\n",
              "        [0.],\n",
              "        [0.],\n",
              "        [0.],\n",
              "        [0.],\n",
              "        [0.],\n",
              "        [0.],\n",
              "        [0.],\n",
              "        [0.],\n",
              "        [0.],\n",
              "        [0.],\n",
              "        [0.],\n",
              "        [0.],\n",
              "        [0.],\n",
              "        [0.],\n",
              "        [0.],\n",
              "        [0.],\n",
              "        [0.],\n",
              "        [0.],\n",
              "        [0.],\n",
              "        [0.],\n",
              "        [0.],\n",
              "        [0.],\n",
              "        [0.],\n",
              "        [0.],\n",
              "        [0.],\n",
              "        [0.],\n",
              "        [0.],\n",
              "        [0.],\n",
              "        [0.],\n",
              "        [0.],\n",
              "        [0.],\n",
              "        [0.],\n",
              "        [0.],\n",
              "        [0.],\n",
              "        [0.],\n",
              "        [0.],\n",
              "        [0.],\n",
              "        [0.],\n",
              "        [0.],\n",
              "        [0.],\n",
              "        [0.],\n",
              "        [0.],\n",
              "        [0.],\n",
              "        [0.],\n",
              "        [0.],\n",
              "        [0.],\n",
              "        [0.],\n",
              "        [0.],\n",
              "        [0.],\n",
              "        [0.],\n",
              "        [0.],\n",
              "        [0.],\n",
              "        [0.],\n",
              "        [0.],\n",
              "        [0.],\n",
              "        [0.],\n",
              "        [0.],\n",
              "        [0.],\n",
              "        [0.],\n",
              "        [0.],\n",
              "        [0.],\n",
              "        [0.],\n",
              "        [0.],\n",
              "        [0.],\n",
              "        [0.],\n",
              "        [0.],\n",
              "        [0.],\n",
              "        [0.],\n",
              "        [0.],\n",
              "        [0.],\n",
              "        [0.],\n",
              "        [0.],\n",
              "        [0.],\n",
              "        [0.],\n",
              "        [0.],\n",
              "        [0.],\n",
              "        [0.],\n",
              "        [0.],\n",
              "        [0.],\n",
              "        [0.],\n",
              "        [0.],\n",
              "        [0.],\n",
              "        [0.],\n",
              "        [0.],\n",
              "        [0.],\n",
              "        [0.],\n",
              "        [0.],\n",
              "        [0.],\n",
              "        [0.],\n",
              "        [0.],\n",
              "        [0.],\n",
              "        [0.],\n",
              "        [0.],\n",
              "        [0.],\n",
              "        [0.],\n",
              "        [0.],\n",
              "        [0.],\n",
              "        [0.],\n",
              "        [0.],\n",
              "        [0.],\n",
              "        [0.],\n",
              "        [0.],\n",
              "        [0.],\n",
              "        [0.],\n",
              "        [0.],\n",
              "        [0.],\n",
              "        [0.],\n",
              "        [0.],\n",
              "        [0.],\n",
              "        [0.],\n",
              "        [0.],\n",
              "        [0.],\n",
              "        [0.],\n",
              "        [0.],\n",
              "        [0.],\n",
              "        [0.],\n",
              "        [0.],\n",
              "        [0.],\n",
              "        [0.],\n",
              "        [0.],\n",
              "        [0.],\n",
              "        [0.],\n",
              "        [0.],\n",
              "        [0.],\n",
              "        [0.],\n",
              "        [0.],\n",
              "        [0.],\n",
              "        [0.],\n",
              "        [0.],\n",
              "        [0.],\n",
              "        [0.],\n",
              "        [0.],\n",
              "        [0.],\n",
              "        [0.],\n",
              "        [0.],\n",
              "        [0.],\n",
              "        [0.],\n",
              "        [0.],\n",
              "        [0.],\n",
              "        [0.],\n",
              "        [0.],\n",
              "        [0.],\n",
              "        [0.],\n",
              "        [0.],\n",
              "        [0.],\n",
              "        [0.],\n",
              "        [0.],\n",
              "        [0.],\n",
              "        [0.],\n",
              "        [0.],\n",
              "        [0.],\n",
              "        [0.],\n",
              "        [0.],\n",
              "        [0.],\n",
              "        [0.],\n",
              "        [0.],\n",
              "        [0.],\n",
              "        [0.],\n",
              "        [0.],\n",
              "        [0.],\n",
              "        [0.],\n",
              "        [0.],\n",
              "        [0.],\n",
              "        [0.],\n",
              "        [0.],\n",
              "        [0.],\n",
              "        [0.],\n",
              "        [0.],\n",
              "        [0.],\n",
              "        [0.],\n",
              "        [0.],\n",
              "        [0.],\n",
              "        [0.],\n",
              "        [0.],\n",
              "        [0.],\n",
              "        [0.],\n",
              "        [0.],\n",
              "        [0.],\n",
              "        [0.],\n",
              "        [0.],\n",
              "        [0.],\n",
              "        [0.],\n",
              "        [0.],\n",
              "        [0.],\n",
              "        [0.],\n",
              "        [0.],\n",
              "        [0.],\n",
              "        [0.],\n",
              "        [0.],\n",
              "        [0.],\n",
              "        [0.],\n",
              "        [0.],\n",
              "        [0.],\n",
              "        [0.],\n",
              "        [0.],\n",
              "        [0.],\n",
              "        [0.],\n",
              "        [0.],\n",
              "        [0.],\n",
              "        [0.],\n",
              "        [0.],\n",
              "        [0.],\n",
              "        [0.],\n",
              "        [0.],\n",
              "        [0.],\n",
              "        [0.],\n",
              "        [0.],\n",
              "        [0.],\n",
              "        [0.],\n",
              "        [0.],\n",
              "        [0.],\n",
              "        [0.],\n",
              "        [0.],\n",
              "        [0.],\n",
              "        [0.],\n",
              "        [0.],\n",
              "        [0.],\n",
              "        [0.],\n",
              "        [0.],\n",
              "        [0.],\n",
              "        [0.],\n",
              "        [0.],\n",
              "        [0.],\n",
              "        [0.],\n",
              "        [0.],\n",
              "        [0.],\n",
              "        [0.],\n",
              "        [0.],\n",
              "        [0.],\n",
              "        [0.],\n",
              "        [0.],\n",
              "        [0.],\n",
              "        [0.],\n",
              "        [0.],\n",
              "        [0.],\n",
              "        [0.],\n",
              "        [0.],\n",
              "        [0.],\n",
              "        [0.],\n",
              "        [0.],\n",
              "        [0.],\n",
              "        [0.],\n",
              "        [0.],\n",
              "        [0.],\n",
              "        [0.],\n",
              "        [0.],\n",
              "        [0.],\n",
              "        [0.],\n",
              "        [0.],\n",
              "        [0.],\n",
              "        [0.],\n",
              "        [0.],\n",
              "        [0.],\n",
              "        [0.],\n",
              "        [0.],\n",
              "        [0.],\n",
              "        [0.],\n",
              "        [0.],\n",
              "        [0.],\n",
              "        [0.],\n",
              "        [0.],\n",
              "        [0.],\n",
              "        [0.],\n",
              "        [0.],\n",
              "        [0.],\n",
              "        [0.],\n",
              "        [0.],\n",
              "        [0.],\n",
              "        [0.],\n",
              "        [0.],\n",
              "        [0.],\n",
              "        [0.],\n",
              "        [0.],\n",
              "        [0.],\n",
              "        [0.],\n",
              "        [0.],\n",
              "        [0.],\n",
              "        [0.],\n",
              "        [0.],\n",
              "        [0.],\n",
              "        [0.],\n",
              "        [0.],\n",
              "        [0.],\n",
              "        [0.],\n",
              "        [0.],\n",
              "        [0.],\n",
              "        [0.],\n",
              "        [0.],\n",
              "        [0.],\n",
              "        [0.],\n",
              "        [0.],\n",
              "        [0.],\n",
              "        [0.],\n",
              "        [0.],\n",
              "        [0.],\n",
              "        [0.],\n",
              "        [0.],\n",
              "        [0.],\n",
              "        [0.],\n",
              "        [0.],\n",
              "        [0.],\n",
              "        [0.],\n",
              "        [0.],\n",
              "        [0.],\n",
              "        [0.],\n",
              "        [0.],\n",
              "        [0.],\n",
              "        [0.],\n",
              "        [0.],\n",
              "        [0.],\n",
              "        [0.],\n",
              "        [0.],\n",
              "        [0.],\n",
              "        [0.],\n",
              "        [0.],\n",
              "        [0.],\n",
              "        [0.],\n",
              "        [0.],\n",
              "        [0.],\n",
              "        [0.],\n",
              "        [0.],\n",
              "        [0.],\n",
              "        [0.],\n",
              "        [0.],\n",
              "        [0.],\n",
              "        [0.],\n",
              "        [0.],\n",
              "        [0.],\n",
              "        [0.],\n",
              "        [0.],\n",
              "        [0.],\n",
              "        [0.],\n",
              "        [0.],\n",
              "        [0.],\n",
              "        [0.],\n",
              "        [0.],\n",
              "        [0.],\n",
              "        [0.],\n",
              "        [0.],\n",
              "        [0.],\n",
              "        [0.],\n",
              "        [0.],\n",
              "        [0.],\n",
              "        [0.],\n",
              "        [0.],\n",
              "        [0.],\n",
              "        [0.],\n",
              "        [0.],\n",
              "        [0.],\n",
              "        [0.],\n",
              "        [0.],\n",
              "        [0.],\n",
              "        [0.],\n",
              "        [0.],\n",
              "        [0.],\n",
              "        [0.],\n",
              "        [0.],\n",
              "        [0.],\n",
              "        [0.],\n",
              "        [0.],\n",
              "        [0.],\n",
              "        [0.],\n",
              "        [0.],\n",
              "        [0.],\n",
              "        [0.],\n",
              "        [0.],\n",
              "        [0.],\n",
              "        [0.],\n",
              "        [0.],\n",
              "        [0.],\n",
              "        [0.],\n",
              "        [0.],\n",
              "        [0.],\n",
              "        [0.],\n",
              "        [0.],\n",
              "        [0.],\n",
              "        [0.],\n",
              "        [0.],\n",
              "        [0.],\n",
              "        [0.],\n",
              "        [0.],\n",
              "        [0.],\n",
              "        [0.],\n",
              "        [0.],\n",
              "        [0.],\n",
              "        [0.],\n",
              "        [0.],\n",
              "        [0.],\n",
              "        [0.],\n",
              "        [0.],\n",
              "        [0.],\n",
              "        [0.],\n",
              "        [0.],\n",
              "        [0.],\n",
              "        [0.],\n",
              "        [0.],\n",
              "        [0.],\n",
              "        [0.],\n",
              "        [0.],\n",
              "        [0.],\n",
              "        [0.],\n",
              "        [0.],\n",
              "        [0.],\n",
              "        [0.],\n",
              "        [0.],\n",
              "        [0.],\n",
              "        [0.],\n",
              "        [0.],\n",
              "        [0.],\n",
              "        [0.],\n",
              "        [0.],\n",
              "        [0.],\n",
              "        [0.],\n",
              "        [0.],\n",
              "        [0.],\n",
              "        [0.],\n",
              "        [0.],\n",
              "        [0.],\n",
              "        [0.],\n",
              "        [0.],\n",
              "        [0.],\n",
              "        [0.],\n",
              "        [0.],\n",
              "        [0.],\n",
              "        [0.],\n",
              "        [0.],\n",
              "        [0.],\n",
              "        [0.],\n",
              "        [0.],\n",
              "        [0.],\n",
              "        [0.],\n",
              "        [0.],\n",
              "        [0.],\n",
              "        [0.],\n",
              "        [0.],\n",
              "        [0.],\n",
              "        [0.],\n",
              "        [0.],\n",
              "        [0.],\n",
              "        [0.],\n",
              "        [0.],\n",
              "        [0.],\n",
              "        [0.],\n",
              "        [0.],\n",
              "        [0.],\n",
              "        [0.],\n",
              "        [0.],\n",
              "        [0.],\n",
              "        [0.],\n",
              "        [0.],\n",
              "        [0.],\n",
              "        [0.],\n",
              "        [0.],\n",
              "        [0.],\n",
              "        [0.],\n",
              "        [0.],\n",
              "        [0.],\n",
              "        [0.],\n",
              "        [0.],\n",
              "        [0.],\n",
              "        [0.],\n",
              "        [0.],\n",
              "        [0.],\n",
              "        [0.],\n",
              "        [0.],\n",
              "        [0.],\n",
              "        [0.],\n",
              "        [0.],\n",
              "        [0.],\n",
              "        [0.],\n",
              "        [0.],\n",
              "        [0.],\n",
              "        [0.],\n",
              "        [0.],\n",
              "        [0.],\n",
              "        [0.],\n",
              "        [0.],\n",
              "        [0.],\n",
              "        [0.],\n",
              "        [0.],\n",
              "        [0.],\n",
              "        [0.],\n",
              "        [0.],\n",
              "        [0.],\n",
              "        [0.],\n",
              "        [0.],\n",
              "        [0.],\n",
              "        [0.],\n",
              "        [0.],\n",
              "        [0.],\n",
              "        [0.],\n",
              "        [0.],\n",
              "        [0.],\n",
              "        [0.],\n",
              "        [0.],\n",
              "        [0.],\n",
              "        [0.],\n",
              "        [0.],\n",
              "        [0.],\n",
              "        [0.],\n",
              "        [0.],\n",
              "        [0.],\n",
              "        [0.],\n",
              "        [0.],\n",
              "        [0.],\n",
              "        [0.],\n",
              "        [0.],\n",
              "        [0.],\n",
              "        [0.],\n",
              "        [0.],\n",
              "        [0.],\n",
              "        [0.],\n",
              "        [0.],\n",
              "        [0.],\n",
              "        [0.],\n",
              "        [0.],\n",
              "        [0.],\n",
              "        [0.],\n",
              "        [0.],\n",
              "        [0.],\n",
              "        [0.],\n",
              "        [0.],\n",
              "        [0.],\n",
              "        [0.],\n",
              "        [0.],\n",
              "        [0.],\n",
              "        [0.],\n",
              "        [0.],\n",
              "        [0.],\n",
              "        [0.],\n",
              "        [0.],\n",
              "        [0.],\n",
              "        [0.],\n",
              "        [0.],\n",
              "        [0.],\n",
              "        [0.],\n",
              "        [0.],\n",
              "        [0.],\n",
              "        [0.],\n",
              "        [0.],\n",
              "        [0.],\n",
              "        [0.],\n",
              "        [0.],\n",
              "        [0.],\n",
              "        [0.],\n",
              "        [0.],\n",
              "        [0.],\n",
              "        [0.],\n",
              "        [0.],\n",
              "        [0.],\n",
              "        [0.],\n",
              "        [0.],\n",
              "        [0.],\n",
              "        [0.],\n",
              "        [0.],\n",
              "        [0.],\n",
              "        [0.],\n",
              "        [0.],\n",
              "        [0.],\n",
              "        [0.],\n",
              "        [0.],\n",
              "        [0.],\n",
              "        [0.],\n",
              "        [0.],\n",
              "        [0.],\n",
              "        [0.],\n",
              "        [0.],\n",
              "        [0.],\n",
              "        [0.],\n",
              "        [0.],\n",
              "        [0.],\n",
              "        [0.],\n",
              "        [0.],\n",
              "        [0.],\n",
              "        [0.],\n",
              "        [0.],\n",
              "        [0.],\n",
              "        [0.]])"
            ]
          },
          "metadata": {
            "tags": []
          },
          "execution_count": 135
        }
      ]
    },
    {
      "cell_type": "code",
      "metadata": {
        "colab": {
          "base_uri": "https://localhost:8080/"
        },
        "id": "fNZoULlff3rz",
        "outputId": "1376c7f7-53a0-463f-9fec-538b77265a5d"
      },
      "source": [
        "calc_grad(batch,train_y[:4],linear1)\r\n",
        "weights.grad.mean(),bias.grad"
      ],
      "execution_count": 136,
      "outputs": [
        {
          "output_type": "execute_result",
          "data": {
            "text/plain": [
              "(tensor(-0.0035), tensor([-0.1222]))"
            ]
          },
          "metadata": {
            "tags": []
          },
          "execution_count": 136
        }
      ]
    },
    {
      "cell_type": "code",
      "metadata": {
        "id": "lizutX6SgfQe"
      },
      "source": [
        "weights.grad.zero_()\r\n",
        "bias.grad.zero_();"
      ],
      "execution_count": 137,
      "outputs": []
    },
    {
      "cell_type": "code",
      "metadata": {
        "id": "lon6oLm8ggD8"
      },
      "source": [
        "def train_epoch(model,lr,params):\r\n",
        "  for xb,yb in dl:\r\n",
        "    calc_grad(xb,yb,model)\r\n",
        "    for p in params:\r\n",
        "      p.data -= p.grad*lr\r\n",
        "      p.grad.zero_()"
      ],
      "execution_count": 138,
      "outputs": []
    },
    {
      "cell_type": "code",
      "metadata": {
        "id": "z1P7p4mahv63"
      },
      "source": [
        "def batch_accuracy(xb,yb):\r\n",
        "  preds = xb.sigmoid()\r\n",
        "  correct = (preds>0.5) == yb\r\n",
        "  return correct.float().mean()"
      ],
      "execution_count": 139,
      "outputs": []
    },
    {
      "cell_type": "code",
      "metadata": {
        "colab": {
          "base_uri": "https://localhost:8080/"
        },
        "id": "Yk21D5OKiFot",
        "outputId": "b2384ae3-ec1a-4885-d9d3-8f6fea75a110"
      },
      "source": [
        "batch_accuracy(linear1(batch),train_y[:4])"
      ],
      "execution_count": 140,
      "outputs": [
        {
          "output_type": "execute_result",
          "data": {
            "text/plain": [
              "tensor(0.2500)"
            ]
          },
          "metadata": {
            "tags": []
          },
          "execution_count": 140
        }
      ]
    },
    {
      "cell_type": "code",
      "metadata": {
        "id": "t_z8pmqXiN3j"
      },
      "source": [
        "def validate_epoch(model):\r\n",
        "  accs = [batch_accuracy(model(xb),yb) for xb,yb in valid_dl]\r\n",
        "  return round(torch.stack(accs).mean().item(),4)"
      ],
      "execution_count": 141,
      "outputs": []
    },
    {
      "cell_type": "code",
      "metadata": {
        "colab": {
          "base_uri": "https://localhost:8080/"
        },
        "id": "wX2zcPcWiij9",
        "outputId": "0dbd1ffa-6924-4fb4-db18-a8cf8d2d46d9"
      },
      "source": [
        "validate_epoch(linear1)"
      ],
      "execution_count": 143,
      "outputs": [
        {
          "output_type": "execute_result",
          "data": {
            "text/plain": [
              "0.3332"
            ]
          },
          "metadata": {
            "tags": []
          },
          "execution_count": 143
        }
      ]
    },
    {
      "cell_type": "code",
      "metadata": {
        "colab": {
          "base_uri": "https://localhost:8080/"
        },
        "id": "3qzqx9Rti1Ze",
        "outputId": "e1cdb20e-8db1-4e5f-a3ba-c9101de9f0aa"
      },
      "source": [
        "lr = 1.\r\n",
        "params = weights,bias\r\n",
        "train_epoch(linear1, lr, params)\r\n",
        "validate_epoch(linear1)"
      ],
      "execution_count": 144,
      "outputs": [
        {
          "output_type": "execute_result",
          "data": {
            "text/plain": [
              "0.5007"
            ]
          },
          "metadata": {
            "tags": []
          },
          "execution_count": 144
        }
      ]
    },
    {
      "cell_type": "code",
      "metadata": {
        "colab": {
          "base_uri": "https://localhost:8080/"
        },
        "id": "qZ6580mBi5bG",
        "outputId": "f025c2a5-d1ce-4cc6-866b-a95981369598"
      },
      "source": [
        "for i in range(20):\r\n",
        "    train_epoch(linear1, lr, params)\r\n",
        "    print(validate_epoch(linear1), end=' ')"
      ],
      "execution_count": 146,
      "outputs": [
        {
          "output_type": "stream",
          "text": [
            "0.9751 0.9751 0.9751 0.9755 0.9765 0.977 0.9775 0.9775 0.977 0.9765 0.9765 0.977 0.9775 0.978 0.9785 0.9785 0.9785 0.9785 0.9785 0.9785 0.9785 0.9785 0.9785 0.9785 0.9785 0.9785 0.9785 0.9785 0.9785 0.9785 "
          ],
          "name": "stdout"
        }
      ]
    },
    {
      "cell_type": "code",
      "metadata": {
        "id": "61qJZ8oajNEJ"
      },
      "source": [
        "linear_model = nn.Linear(28*28,1)"
      ],
      "execution_count": 147,
      "outputs": []
    },
    {
      "cell_type": "code",
      "metadata": {
        "colab": {
          "base_uri": "https://localhost:8080/"
        },
        "id": "cIwTHBsEjjWv",
        "outputId": "bac98562-386e-490b-8312-e86fa3921e73"
      },
      "source": [
        "w,b = linear_model.parameters()\r\n",
        "w.shape,b.shape"
      ],
      "execution_count": 148,
      "outputs": [
        {
          "output_type": "execute_result",
          "data": {
            "text/plain": [
              "(torch.Size([1, 784]), torch.Size([1]))"
            ]
          },
          "metadata": {
            "tags": []
          },
          "execution_count": 148
        }
      ]
    },
    {
      "cell_type": "code",
      "metadata": {
        "id": "XIq7NnBYjo3N"
      },
      "source": [
        "class BasicOptim:\r\n",
        "  def __init__(self,params,lr):\r\n",
        "    self.params,self.lr = list(params),lr\r\n",
        "\r\n",
        "  def step(self,*args,**kwargs):\r\n",
        "    for p in self.params:\r\n",
        "      p.data -= p.grad.data*self.lr\r\n",
        "  \r\n",
        "  def zero_grad(self,*args,**kwargs):\r\n",
        "    for p in self.params:\r\n",
        "      p.grad = None"
      ],
      "execution_count": 149,
      "outputs": []
    },
    {
      "cell_type": "code",
      "metadata": {
        "id": "8ie2-0d5kKxq"
      },
      "source": [
        "opt = BasicOptim(linear_model.parameters(),lr)"
      ],
      "execution_count": 151,
      "outputs": []
    },
    {
      "cell_type": "code",
      "metadata": {
        "id": "BrSB7QsmkXjP"
      },
      "source": [
        "def train_epoch(model):\r\n",
        "  for xb,yb in dl:\r\n",
        "    calc_grad(xb,yb,model)\r\n",
        "    opt.step()\r\n",
        "    opt.zero_grad()"
      ],
      "execution_count": 152,
      "outputs": []
    },
    {
      "cell_type": "code",
      "metadata": {
        "id": "MVqCAhEgkuY-"
      },
      "source": [
        "validate_epoch??"
      ],
      "execution_count": 156,
      "outputs": []
    },
    {
      "cell_type": "code",
      "metadata": {
        "colab": {
          "base_uri": "https://localhost:8080/"
        },
        "id": "soeJnAP3kzRs",
        "outputId": "d503a343-2456-48b2-cade-d99711ef47c3"
      },
      "source": [
        "validate_epoch(linear_model)"
      ],
      "execution_count": 155,
      "outputs": [
        {
          "output_type": "execute_result",
          "data": {
            "text/plain": [
              "0.5829"
            ]
          },
          "metadata": {
            "tags": []
          },
          "execution_count": 155
        }
      ]
    },
    {
      "cell_type": "code",
      "metadata": {
        "id": "a09zzDcWk4rp"
      },
      "source": [
        "def train_model(model,epochs):\r\n",
        "  for i in range(epochs):\r\n",
        "    train_epoch(model)\r\n",
        "    print(validate_epoch(model), end='  ')"
      ],
      "execution_count": 157,
      "outputs": []
    },
    {
      "cell_type": "code",
      "metadata": {
        "colab": {
          "base_uri": "https://localhost:8080/"
        },
        "id": "9jgSkXcAlO38",
        "outputId": "65b76728-8529-4277-c67d-b3047d2c5cb6"
      },
      "source": [
        "train_model(linear_model, 20)"
      ],
      "execution_count": 158,
      "outputs": [
        {
          "output_type": "stream",
          "text": [
            "0.4932  0.7837  0.8608  0.9175  0.937  0.9482  0.9565  0.9638  0.9663  0.9673  0.9697  0.9717  0.9741  0.9746  0.9761  0.9765  0.9775  0.9775  0.9785  0.9785  "
          ],
          "name": "stdout"
        }
      ]
    },
    {
      "cell_type": "code",
      "metadata": {
        "colab": {
          "base_uri": "https://localhost:8080/"
        },
        "id": "fxmxPEo3lVaT",
        "outputId": "a68ccbf4-efbc-4cfc-f17e-0f0743351a61"
      },
      "source": [
        "linear_model = nn.Linear(28*28,1)\r\n",
        "opt = SGD(linear_model.parameters(), lr)\r\n",
        "train_model(linear_model, 20)"
      ],
      "execution_count": 159,
      "outputs": [
        {
          "output_type": "stream",
          "text": [
            "0.4932  0.7378  0.8569  0.9175  0.9365  0.9492  0.957  0.9638  0.9663  0.9678  0.9697  0.9721  0.9741  0.9746  0.9761  0.977  0.9775  0.9775  0.9785  0.9785  "
          ],
          "name": "stdout"
        }
      ]
    },
    {
      "cell_type": "code",
      "metadata": {
        "id": "BGUujDQxllPz"
      },
      "source": [
        "dls = DataLoaders(dl,valid_dl)"
      ],
      "execution_count": 160,
      "outputs": []
    },
    {
      "cell_type": "code",
      "metadata": {
        "id": "XugGkyO5lq6B"
      },
      "source": [
        "learn = Learner(dls, nn.Linear(28*28,1), opt_func=SGD, loss_func=mnist_loss, metrics=batch_accuracy)"
      ],
      "execution_count": 162,
      "outputs": []
    },
    {
      "cell_type": "code",
      "metadata": {
        "colab": {
          "base_uri": "https://localhost:8080/",
          "height": 649
        },
        "id": "1IYmKG6lmAtB",
        "outputId": "552599fc-b2af-4773-dd88-5a3d61aaddae"
      },
      "source": [
        "learn.fit(20,lr=lr)"
      ],
      "execution_count": 164,
      "outputs": [
        {
          "output_type": "display_data",
          "data": {
            "text/html": [
              "<table border=\"1\" class=\"dataframe\">\n",
              "  <thead>\n",
              "    <tr style=\"text-align: left;\">\n",
              "      <th>epoch</th>\n",
              "      <th>train_loss</th>\n",
              "      <th>valid_loss</th>\n",
              "      <th>batch_accuracy</th>\n",
              "      <th>time</th>\n",
              "    </tr>\n",
              "  </thead>\n",
              "  <tbody>\n",
              "    <tr>\n",
              "      <td>0</td>\n",
              "      <td>0.016410</td>\n",
              "      <td>0.035568</td>\n",
              "      <td>0.969087</td>\n",
              "      <td>00:00</td>\n",
              "    </tr>\n",
              "    <tr>\n",
              "      <td>1</td>\n",
              "      <td>0.016127</td>\n",
              "      <td>0.033619</td>\n",
              "      <td>0.971541</td>\n",
              "      <td>00:00</td>\n",
              "    </tr>\n",
              "    <tr>\n",
              "      <td>2</td>\n",
              "      <td>0.015832</td>\n",
              "      <td>0.032020</td>\n",
              "      <td>0.973503</td>\n",
              "      <td>00:00</td>\n",
              "    </tr>\n",
              "    <tr>\n",
              "      <td>3</td>\n",
              "      <td>0.015546</td>\n",
              "      <td>0.030680</td>\n",
              "      <td>0.974485</td>\n",
              "      <td>00:00</td>\n",
              "    </tr>\n",
              "    <tr>\n",
              "      <td>4</td>\n",
              "      <td>0.015283</td>\n",
              "      <td>0.029540</td>\n",
              "      <td>0.975957</td>\n",
              "      <td>00:00</td>\n",
              "    </tr>\n",
              "    <tr>\n",
              "      <td>5</td>\n",
              "      <td>0.015045</td>\n",
              "      <td>0.028559</td>\n",
              "      <td>0.976448</td>\n",
              "      <td>00:00</td>\n",
              "    </tr>\n",
              "    <tr>\n",
              "      <td>6</td>\n",
              "      <td>0.014834</td>\n",
              "      <td>0.027710</td>\n",
              "      <td>0.977429</td>\n",
              "      <td>00:00</td>\n",
              "    </tr>\n",
              "    <tr>\n",
              "      <td>7</td>\n",
              "      <td>0.014644</td>\n",
              "      <td>0.026967</td>\n",
              "      <td>0.977920</td>\n",
              "      <td>00:00</td>\n",
              "    </tr>\n",
              "    <tr>\n",
              "      <td>8</td>\n",
              "      <td>0.014474</td>\n",
              "      <td>0.026314</td>\n",
              "      <td>0.978410</td>\n",
              "      <td>00:00</td>\n",
              "    </tr>\n",
              "    <tr>\n",
              "      <td>9</td>\n",
              "      <td>0.014319</td>\n",
              "      <td>0.025735</td>\n",
              "      <td>0.978410</td>\n",
              "      <td>00:00</td>\n",
              "    </tr>\n",
              "    <tr>\n",
              "      <td>10</td>\n",
              "      <td>0.014177</td>\n",
              "      <td>0.025219</td>\n",
              "      <td>0.978901</td>\n",
              "      <td>00:00</td>\n",
              "    </tr>\n",
              "    <tr>\n",
              "      <td>11</td>\n",
              "      <td>0.014045</td>\n",
              "      <td>0.024756</td>\n",
              "      <td>0.979392</td>\n",
              "      <td>00:00</td>\n",
              "    </tr>\n",
              "    <tr>\n",
              "      <td>12</td>\n",
              "      <td>0.013922</td>\n",
              "      <td>0.024339</td>\n",
              "      <td>0.979392</td>\n",
              "      <td>00:00</td>\n",
              "    </tr>\n",
              "    <tr>\n",
              "      <td>13</td>\n",
              "      <td>0.013805</td>\n",
              "      <td>0.023962</td>\n",
              "      <td>0.978901</td>\n",
              "      <td>00:00</td>\n",
              "    </tr>\n",
              "    <tr>\n",
              "      <td>14</td>\n",
              "      <td>0.013695</td>\n",
              "      <td>0.023619</td>\n",
              "      <td>0.979392</td>\n",
              "      <td>00:00</td>\n",
              "    </tr>\n",
              "    <tr>\n",
              "      <td>15</td>\n",
              "      <td>0.013589</td>\n",
              "      <td>0.023306</td>\n",
              "      <td>0.979392</td>\n",
              "      <td>00:00</td>\n",
              "    </tr>\n",
              "    <tr>\n",
              "      <td>16</td>\n",
              "      <td>0.013488</td>\n",
              "      <td>0.023019</td>\n",
              "      <td>0.979882</td>\n",
              "      <td>00:00</td>\n",
              "    </tr>\n",
              "    <tr>\n",
              "      <td>17</td>\n",
              "      <td>0.013391</td>\n",
              "      <td>0.022755</td>\n",
              "      <td>0.980373</td>\n",
              "      <td>00:00</td>\n",
              "    </tr>\n",
              "    <tr>\n",
              "      <td>18</td>\n",
              "      <td>0.013297</td>\n",
              "      <td>0.022511</td>\n",
              "      <td>0.980864</td>\n",
              "      <td>00:00</td>\n",
              "    </tr>\n",
              "    <tr>\n",
              "      <td>19</td>\n",
              "      <td>0.013207</td>\n",
              "      <td>0.022286</td>\n",
              "      <td>0.981354</td>\n",
              "      <td>00:00</td>\n",
              "    </tr>\n",
              "  </tbody>\n",
              "</table>"
            ],
            "text/plain": [
              "<IPython.core.display.HTML object>"
            ]
          },
          "metadata": {
            "tags": []
          }
        }
      ]
    },
    {
      "cell_type": "code",
      "metadata": {
        "colab": {
          "base_uri": "https://localhost:8080/"
        },
        "id": "Zx3LVKj6nSBm",
        "outputId": "4c1a9b4a-7e2c-47a6-cc28-dae43fb47ea8"
      },
      "source": [
        "torch.randn((2,2))"
      ],
      "execution_count": 167,
      "outputs": [
        {
          "output_type": "execute_result",
          "data": {
            "text/plain": [
              "tensor([[-0.8353,  0.6418],\n",
              "        [ 0.5524,  1.5583]])"
            ]
          },
          "metadata": {
            "tags": []
          },
          "execution_count": 167
        }
      ]
    },
    {
      "cell_type": "code",
      "metadata": {
        "id": "fW_0JhJFmelL"
      },
      "source": [
        "def simple_net(xb): \r\n",
        "    res = xb@w1 + b1\r\n",
        "    res = res.max(tensor(0.0))\r\n",
        "    res = res@w2 + b2\r\n",
        "    return res"
      ],
      "execution_count": 165,
      "outputs": []
    },
    {
      "cell_type": "code",
      "metadata": {
        "id": "zZjLxTTbod2m"
      },
      "source": [
        "simple_net = nn.Sequential(\r\n",
        "    nn.Linear(28*28,30),\r\n",
        "    nn.ReLU(),\r\n",
        "    nn.Linear(30,1)\r\n",
        ")"
      ],
      "execution_count": 168,
      "outputs": []
    },
    {
      "cell_type": "code",
      "metadata": {
        "id": "nODs30bWo0xO"
      },
      "source": [
        "learn = Learner(dls, simple_net, opt_func=SGD,\r\n",
        "                loss_func=mnist_loss, metrics=batch_accuracy)"
      ],
      "execution_count": 169,
      "outputs": []
    },
    {
      "cell_type": "code",
      "metadata": {
        "colab": {
          "base_uri": "https://localhost:8080/"
        },
        "id": "0DCJOUjCo3Dy",
        "outputId": "5c3d72dd-beb0-4025-d853-3da7d2245153"
      },
      "source": [
        "list(simple_net.parameters())"
      ],
      "execution_count": 171,
      "outputs": [
        {
          "output_type": "execute_result",
          "data": {
            "text/plain": [
              "[Parameter containing:\n",
              " tensor([[-0.0141,  0.0342,  0.0071,  ..., -0.0144,  0.0267, -0.0126],\n",
              "         [ 0.0327,  0.0230,  0.0235,  ..., -0.0265,  0.0066,  0.0005],\n",
              "         [-0.0340,  0.0276,  0.0071,  ...,  0.0175,  0.0290,  0.0352],\n",
              "         ...,\n",
              "         [-0.0230,  0.0205, -0.0148,  ..., -0.0293, -0.0125, -0.0123],\n",
              "         [ 0.0191,  0.0168, -0.0333,  ..., -0.0104, -0.0348,  0.0285],\n",
              "         [-0.0236, -0.0341,  0.0002,  ..., -0.0027,  0.0034,  0.0327]], requires_grad=True),\n",
              " Parameter containing:\n",
              " tensor([ 0.0147,  0.0237, -0.0057, -0.0025, -0.0025,  0.0261,  0.0199,  0.0236,  0.0224, -0.0352, -0.0174,  0.0167,  0.0117, -0.0328,  0.0216, -0.0017,  0.0131,  0.0066, -0.0209,  0.0180,  0.0092,\n",
              "          0.0327,  0.0321, -0.0182, -0.0046, -0.0278,  0.0137, -0.0263,  0.0191, -0.0248], requires_grad=True),\n",
              " Parameter containing:\n",
              " tensor([[ 0.1808,  0.1165, -0.1657, -0.0168,  0.0321, -0.0453, -0.1375, -0.0617, -0.1294, -0.0409,  0.1768, -0.0809,  0.0770,  0.0086,  0.0600,  0.0892, -0.0063,  0.0018, -0.0717,  0.1402,  0.0587,\n",
              "           0.0549, -0.0046, -0.1225, -0.1497,  0.0691,  0.0354,  0.1296,  0.1412, -0.0118]], requires_grad=True),\n",
              " Parameter containing:\n",
              " tensor([0.1052], requires_grad=True)]"
            ]
          },
          "metadata": {
            "tags": []
          },
          "execution_count": 171
        }
      ]
    },
    {
      "cell_type": "code",
      "metadata": {
        "colab": {
          "base_uri": "https://localhost:8080/",
          "height": 1000
        },
        "id": "f-MausnOpQUU",
        "outputId": "01ed041c-f92e-4cb6-a872-feb2cf4a8c7a"
      },
      "source": [
        "learn.fit(40,0.1)"
      ],
      "execution_count": 172,
      "outputs": [
        {
          "output_type": "display_data",
          "data": {
            "text/html": [
              "<table border=\"1\" class=\"dataframe\">\n",
              "  <thead>\n",
              "    <tr style=\"text-align: left;\">\n",
              "      <th>epoch</th>\n",
              "      <th>train_loss</th>\n",
              "      <th>valid_loss</th>\n",
              "      <th>batch_accuracy</th>\n",
              "      <th>time</th>\n",
              "    </tr>\n",
              "  </thead>\n",
              "  <tbody>\n",
              "    <tr>\n",
              "      <td>0</td>\n",
              "      <td>0.334790</td>\n",
              "      <td>0.406785</td>\n",
              "      <td>0.507360</td>\n",
              "      <td>00:00</td>\n",
              "    </tr>\n",
              "    <tr>\n",
              "      <td>1</td>\n",
              "      <td>0.153760</td>\n",
              "      <td>0.234468</td>\n",
              "      <td>0.798332</td>\n",
              "      <td>00:00</td>\n",
              "    </tr>\n",
              "    <tr>\n",
              "      <td>2</td>\n",
              "      <td>0.083976</td>\n",
              "      <td>0.115804</td>\n",
              "      <td>0.915113</td>\n",
              "      <td>00:00</td>\n",
              "    </tr>\n",
              "    <tr>\n",
              "      <td>3</td>\n",
              "      <td>0.054453</td>\n",
              "      <td>0.077637</td>\n",
              "      <td>0.941609</td>\n",
              "      <td>00:00</td>\n",
              "    </tr>\n",
              "    <tr>\n",
              "      <td>4</td>\n",
              "      <td>0.040869</td>\n",
              "      <td>0.060578</td>\n",
              "      <td>0.955839</td>\n",
              "      <td>00:00</td>\n",
              "    </tr>\n",
              "    <tr>\n",
              "      <td>5</td>\n",
              "      <td>0.033995</td>\n",
              "      <td>0.051149</td>\n",
              "      <td>0.964671</td>\n",
              "      <td>00:00</td>\n",
              "    </tr>\n",
              "    <tr>\n",
              "      <td>6</td>\n",
              "      <td>0.030090</td>\n",
              "      <td>0.045257</td>\n",
              "      <td>0.965653</td>\n",
              "      <td>00:00</td>\n",
              "    </tr>\n",
              "    <tr>\n",
              "      <td>7</td>\n",
              "      <td>0.027582</td>\n",
              "      <td>0.041229</td>\n",
              "      <td>0.965653</td>\n",
              "      <td>00:00</td>\n",
              "    </tr>\n",
              "    <tr>\n",
              "      <td>8</td>\n",
              "      <td>0.025794</td>\n",
              "      <td>0.038286</td>\n",
              "      <td>0.969087</td>\n",
              "      <td>00:00</td>\n",
              "    </tr>\n",
              "    <tr>\n",
              "      <td>9</td>\n",
              "      <td>0.024421</td>\n",
              "      <td>0.036023</td>\n",
              "      <td>0.970559</td>\n",
              "      <td>00:00</td>\n",
              "    </tr>\n",
              "    <tr>\n",
              "      <td>10</td>\n",
              "      <td>0.023313</td>\n",
              "      <td>0.034218</td>\n",
              "      <td>0.972522</td>\n",
              "      <td>00:00</td>\n",
              "    </tr>\n",
              "    <tr>\n",
              "      <td>11</td>\n",
              "      <td>0.022392</td>\n",
              "      <td>0.032733</td>\n",
              "      <td>0.972031</td>\n",
              "      <td>00:00</td>\n",
              "    </tr>\n",
              "    <tr>\n",
              "      <td>12</td>\n",
              "      <td>0.021609</td>\n",
              "      <td>0.031484</td>\n",
              "      <td>0.972031</td>\n",
              "      <td>00:00</td>\n",
              "    </tr>\n",
              "    <tr>\n",
              "      <td>13</td>\n",
              "      <td>0.020932</td>\n",
              "      <td>0.030411</td>\n",
              "      <td>0.974975</td>\n",
              "      <td>00:00</td>\n",
              "    </tr>\n",
              "    <tr>\n",
              "      <td>14</td>\n",
              "      <td>0.020338</td>\n",
              "      <td>0.029475</td>\n",
              "      <td>0.975957</td>\n",
              "      <td>00:00</td>\n",
              "    </tr>\n",
              "    <tr>\n",
              "      <td>15</td>\n",
              "      <td>0.019813</td>\n",
              "      <td>0.028648</td>\n",
              "      <td>0.976938</td>\n",
              "      <td>00:00</td>\n",
              "    </tr>\n",
              "    <tr>\n",
              "      <td>16</td>\n",
              "      <td>0.019343</td>\n",
              "      <td>0.027913</td>\n",
              "      <td>0.977429</td>\n",
              "      <td>00:00</td>\n",
              "    </tr>\n",
              "    <tr>\n",
              "      <td>17</td>\n",
              "      <td>0.018919</td>\n",
              "      <td>0.027253</td>\n",
              "      <td>0.977920</td>\n",
              "      <td>00:00</td>\n",
              "    </tr>\n",
              "    <tr>\n",
              "      <td>18</td>\n",
              "      <td>0.018534</td>\n",
              "      <td>0.026658</td>\n",
              "      <td>0.978410</td>\n",
              "      <td>00:00</td>\n",
              "    </tr>\n",
              "    <tr>\n",
              "      <td>19</td>\n",
              "      <td>0.018183</td>\n",
              "      <td>0.026119</td>\n",
              "      <td>0.979392</td>\n",
              "      <td>00:00</td>\n",
              "    </tr>\n",
              "    <tr>\n",
              "      <td>20</td>\n",
              "      <td>0.017859</td>\n",
              "      <td>0.025628</td>\n",
              "      <td>0.979882</td>\n",
              "      <td>00:00</td>\n",
              "    </tr>\n",
              "    <tr>\n",
              "      <td>21</td>\n",
              "      <td>0.017561</td>\n",
              "      <td>0.025179</td>\n",
              "      <td>0.979882</td>\n",
              "      <td>00:00</td>\n",
              "    </tr>\n",
              "    <tr>\n",
              "      <td>22</td>\n",
              "      <td>0.017283</td>\n",
              "      <td>0.024766</td>\n",
              "      <td>0.980373</td>\n",
              "      <td>00:00</td>\n",
              "    </tr>\n",
              "    <tr>\n",
              "      <td>23</td>\n",
              "      <td>0.017025</td>\n",
              "      <td>0.024387</td>\n",
              "      <td>0.980864</td>\n",
              "      <td>00:00</td>\n",
              "    </tr>\n",
              "    <tr>\n",
              "      <td>24</td>\n",
              "      <td>0.016783</td>\n",
              "      <td>0.024036</td>\n",
              "      <td>0.981354</td>\n",
              "      <td>00:00</td>\n",
              "    </tr>\n",
              "    <tr>\n",
              "      <td>25</td>\n",
              "      <td>0.016556</td>\n",
              "      <td>0.023711</td>\n",
              "      <td>0.981354</td>\n",
              "      <td>00:00</td>\n",
              "    </tr>\n",
              "    <tr>\n",
              "      <td>26</td>\n",
              "      <td>0.016341</td>\n",
              "      <td>0.023409</td>\n",
              "      <td>0.981354</td>\n",
              "      <td>00:00</td>\n",
              "    </tr>\n",
              "    <tr>\n",
              "      <td>27</td>\n",
              "      <td>0.016139</td>\n",
              "      <td>0.023129</td>\n",
              "      <td>0.981354</td>\n",
              "      <td>00:00</td>\n",
              "    </tr>\n",
              "    <tr>\n",
              "      <td>28</td>\n",
              "      <td>0.015947</td>\n",
              "      <td>0.022868</td>\n",
              "      <td>0.981845</td>\n",
              "      <td>00:00</td>\n",
              "    </tr>\n",
              "    <tr>\n",
              "      <td>29</td>\n",
              "      <td>0.015764</td>\n",
              "      <td>0.022624</td>\n",
              "      <td>0.981845</td>\n",
              "      <td>00:00</td>\n",
              "    </tr>\n",
              "    <tr>\n",
              "      <td>30</td>\n",
              "      <td>0.015590</td>\n",
              "      <td>0.022396</td>\n",
              "      <td>0.981845</td>\n",
              "      <td>00:00</td>\n",
              "    </tr>\n",
              "    <tr>\n",
              "      <td>31</td>\n",
              "      <td>0.015424</td>\n",
              "      <td>0.022183</td>\n",
              "      <td>0.981845</td>\n",
              "      <td>00:00</td>\n",
              "    </tr>\n",
              "    <tr>\n",
              "      <td>32</td>\n",
              "      <td>0.015265</td>\n",
              "      <td>0.021982</td>\n",
              "      <td>0.982336</td>\n",
              "      <td>00:00</td>\n",
              "    </tr>\n",
              "    <tr>\n",
              "      <td>33</td>\n",
              "      <td>0.015114</td>\n",
              "      <td>0.021794</td>\n",
              "      <td>0.982336</td>\n",
              "      <td>00:00</td>\n",
              "    </tr>\n",
              "    <tr>\n",
              "      <td>34</td>\n",
              "      <td>0.014968</td>\n",
              "      <td>0.021617</td>\n",
              "      <td>0.982336</td>\n",
              "      <td>00:00</td>\n",
              "    </tr>\n",
              "    <tr>\n",
              "      <td>35</td>\n",
              "      <td>0.014828</td>\n",
              "      <td>0.021450</td>\n",
              "      <td>0.983317</td>\n",
              "      <td>00:00</td>\n",
              "    </tr>\n",
              "    <tr>\n",
              "      <td>36</td>\n",
              "      <td>0.014693</td>\n",
              "      <td>0.021291</td>\n",
              "      <td>0.983317</td>\n",
              "      <td>00:00</td>\n",
              "    </tr>\n",
              "    <tr>\n",
              "      <td>37</td>\n",
              "      <td>0.014563</td>\n",
              "      <td>0.021142</td>\n",
              "      <td>0.982826</td>\n",
              "      <td>00:00</td>\n",
              "    </tr>\n",
              "    <tr>\n",
              "      <td>38</td>\n",
              "      <td>0.014438</td>\n",
              "      <td>0.021000</td>\n",
              "      <td>0.982826</td>\n",
              "      <td>00:00</td>\n",
              "    </tr>\n",
              "    <tr>\n",
              "      <td>39</td>\n",
              "      <td>0.014316</td>\n",
              "      <td>0.020865</td>\n",
              "      <td>0.982826</td>\n",
              "      <td>00:00</td>\n",
              "    </tr>\n",
              "  </tbody>\n",
              "</table>"
            ],
            "text/plain": [
              "<IPython.core.display.HTML object>"
            ]
          },
          "metadata": {
            "tags": []
          }
        }
      ]
    },
    {
      "cell_type": "code",
      "metadata": {
        "colab": {
          "base_uri": "https://localhost:8080/"
        },
        "id": "pj3zoTd_pqxC",
        "outputId": "9e2681b0-79c5-4e7a-9589-f2bf1cb0397e"
      },
      "source": [
        "learn.recorder.values[-1]"
      ],
      "execution_count": 175,
      "outputs": [
        {
          "output_type": "execute_result",
          "data": {
            "text/plain": [
              "(#3) [0.014316302724182606,0.020864922553300858,0.982826292514801]"
            ]
          },
          "metadata": {
            "tags": []
          },
          "execution_count": 175
        }
      ]
    },
    {
      "cell_type": "code",
      "metadata": {
        "colab": {
          "base_uri": "https://localhost:8080/",
          "height": 78
        },
        "id": "iOHn0BW2pweK",
        "outputId": "bd68a422-7849-4203-ea64-18a226261e17"
      },
      "source": [
        "dls = ImageDataLoaders.from_folder(path)\r\n",
        "learn = cnn_learner(dls, resnet18, pretrained=False,\r\n",
        "                    loss_func=F.cross_entropy, metrics=accuracy)\r\n",
        "learn.fit_one_cycle(1, 0.1)"
      ],
      "execution_count": 176,
      "outputs": [
        {
          "output_type": "display_data",
          "data": {
            "text/html": [
              "<table border=\"1\" class=\"dataframe\">\n",
              "  <thead>\n",
              "    <tr style=\"text-align: left;\">\n",
              "      <th>epoch</th>\n",
              "      <th>train_loss</th>\n",
              "      <th>valid_loss</th>\n",
              "      <th>accuracy</th>\n",
              "      <th>time</th>\n",
              "    </tr>\n",
              "  </thead>\n",
              "  <tbody>\n",
              "    <tr>\n",
              "      <td>0</td>\n",
              "      <td>0.104792</td>\n",
              "      <td>0.020221</td>\n",
              "      <td>0.995093</td>\n",
              "      <td>00:16</td>\n",
              "    </tr>\n",
              "  </tbody>\n",
              "</table>"
            ],
            "text/plain": [
              "<IPython.core.display.HTML object>"
            ]
          },
          "metadata": {
            "tags": []
          }
        }
      ]
    }
  ]
}